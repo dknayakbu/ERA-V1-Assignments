{
 "cells": [
  {
   "cell_type": "code",
   "execution_count": 1,
   "id": "92c20a8b",
   "metadata": {},
   "outputs": [],
   "source": [
    "!pip install --quiet \"pandas\" \"torch\" \"torchtext\" \"torchvision\" \"seaborn\" \"pytorch-lightning\" \"torchmetrics\" \"lightning-bolts\" \"torch-lr-finder\" \"torchinfo\" \"tokenizers\" \"datasets\" \"torchsummary\""
   ]
  },
  {
   "cell_type": "code",
   "execution_count": 2,
   "id": "9248d56e",
   "metadata": {
    "scrolled": true
   },
   "outputs": [
    {
     "name": "stderr",
     "output_type": "stream",
     "text": [
      "2023-09-06 15:25:04.740264: I tensorflow/core/platform/cpu_feature_guard.cc:193] This TensorFlow binary is optimized with oneAPI Deep Neural Network Library (oneDNN) to use the following CPU instructions in performance-critical operations:  AVX2 FMA\n",
      "To enable them in other operations, rebuild TensorFlow with the appropriate compiler flags.\n",
      "2023-09-06 15:25:04.867213: E tensorflow/stream_executor/cuda/cuda_blas.cc:2981] Unable to register cuBLAS factory: Attempting to register factory for plugin cuBLAS when one has already been registered\n",
      "2023-09-06 15:25:05.291659: W tensorflow/stream_executor/platform/default/dso_loader.cc:64] Could not load dynamic library 'libnvinfer.so.7'; dlerror: libnvinfer.so.7: cannot open shared object file: No such file or directory\n",
      "2023-09-06 15:25:05.291716: W tensorflow/stream_executor/platform/default/dso_loader.cc:64] Could not load dynamic library 'libnvinfer_plugin.so.7'; dlerror: libnvinfer_plugin.so.7: cannot open shared object file: No such file or directory\n",
      "2023-09-06 15:25:05.291720: W tensorflow/compiler/tf2tensorrt/utils/py_utils.cc:38] TF-TRT Warning: Cannot dlopen some TensorRT libraries. If you would like to use Nvidia GPU with TensorRT, please make sure the missing libraries mentioned above are installed properly.\n"
     ]
    },
    {
     "name": "stdout",
     "output_type": "stream",
     "text": [
      "Using device: cuda\n",
      "Max length of source sentence: 309\n",
      "Max length of target sentence: 274\n",
      "Building transformer... \n",
      "InputEmbeddings\n",
      "building positional encoding\n",
      "building encoder_blocks\n",
      "building decoder_blocks\n",
      "Build Encoder and Decoder\n",
      "Build projection_layer\n",
      "Build transformer\n"
     ]
    },
    {
     "name": "stderr",
     "output_type": "stream",
     "text": [
      "Processing Epoch 00: 100%|████████████████████████████████████████████████████████████| 1819/1819 [10:32<00:00,  2.87it/s, loss=5.636]\n",
      "/bin/sh: 1: ssty: not found\n"
     ]
    },
    {
     "name": "stdout",
     "output_type": "stream",
     "text": [
      "--------------------------------------------------------------------------------\n",
      "    SOURCE: \"So am I,\" said George's father, valiantly.\n",
      "    TARGET: — Anch’io — disse il padre di Giorgio, coraggiosamente.\n",
      " PREDICTED: — Non ho detto che mi disse .\n",
      "--------------------------------------------------------------------------------\n",
      "    SOURCE: Levin sighed bitterly.\n",
      "    TARGET: Levin sospirò con pena.\n",
      " PREDICTED: Levin si era la sua .\n",
      "--------------------------------------------------------------------------------\n"
     ]
    },
    {
     "name": "stderr",
     "output_type": "stream",
     "text": [
      "/home/administrator/anaconda3/envs/iot_res/lib/python3.9/site-packages/torchmetrics/utilities/prints.py:62: FutureWarning: Importing `CharErrorRate` from `torchmetrics` was deprecated and will be removed in 2.0. Import `CharErrorRate` from `torchmetrics.text` instead.\n",
      "  _future_warning(\n",
      "/home/administrator/anaconda3/envs/iot_res/lib/python3.9/site-packages/torchmetrics/utilities/prints.py:62: FutureWarning: Importing `WordErrorRate` from `torchmetrics` was deprecated and will be removed in 2.0. Import `WordErrorRate` from `torchmetrics.text` instead.\n",
      "  _future_warning(\n",
      "/home/administrator/anaconda3/envs/iot_res/lib/python3.9/site-packages/torchmetrics/utilities/prints.py:62: FutureWarning: Importing `BLEUScore` from `torchmetrics` was deprecated and will be removed in 2.0. Import `BLEUScore` from `torchmetrics.text` instead.\n",
      "  _future_warning(\n",
      "Processing Epoch 01: 100%|████████████████████████████████████████████████████████████| 1819/1819 [10:40<00:00,  2.84it/s, loss=5.099]\n",
      "/bin/sh: 1: ssty: not found\n"
     ]
    },
    {
     "name": "stdout",
     "output_type": "stream",
     "text": [
      "--------------------------------------------------------------------------------\n",
      "    SOURCE: In her soul there was another vague idea, which alone interested her, but of which she could not get hold.\n",
      "    TARGET: Nella sua anima c’era un certo pensiero confuso, che la interessava unicamente, ma di cui non riusciva a rendersi conto.\n",
      " PREDICTED: Quando era un ’ altra volta , che era stato stato , ma non poteva dire , ma non poteva dire .\n",
      "--------------------------------------------------------------------------------\n",
      "    SOURCE: 'We thought she was with you,' she answered.\n",
      "    TARGET: — Pensavamo fosse con voi — ella disse.\n",
      " PREDICTED: — — disse . — Non è nulla .\n",
      "--------------------------------------------------------------------------------\n"
     ]
    },
    {
     "name": "stderr",
     "output_type": "stream",
     "text": [
      "Processing Epoch 02: 100%|████████████████████████████████████████████████████████████| 1819/1819 [10:41<00:00,  2.83it/s, loss=5.137]\n",
      "/bin/sh: 1: ssty: not found\n"
     ]
    },
    {
     "name": "stdout",
     "output_type": "stream",
     "text": [
      "--------------------------------------------------------------------------------\n",
      "    SOURCE: The month of courtship had wasted: its very last hours were being numbered.\n",
      "    TARGET: Il mese assegnato dal signor Rochester era trascorso e le ore che mi dividevano dal matrimonio erano contate e non era possibile di ritardare la cerimonia, perché tutto era pronto.\n",
      " PREDICTED: Il giorno era stato di , e il suo tempo era stato .\n",
      "--------------------------------------------------------------------------------\n",
      "    SOURCE: But whereas Oblonsky's sleep would, he imagined, have offended them – he did not really even think this, for everything seemed so strange – Landau's sleep delighted them extremely, especially Lydia Ivanovna.\n",
      "    TARGET: Ma il sonno di Stepan Arkad’ic, come egli pensava, li avrebbe offesi (ormai non pensava neanche più questo, tanto ormai gli sembrava tutto strano), e il sonno di Landau, invece, li rallegrò straordinariamente, in particolare rallegrò la contessa Lidija Ivanovna.\n",
      " PREDICTED: Ma Stepan Arkad ’ ic , egli si era stato , e non si può , non poteva , non solo , non poteva , si può , con la moglie , la principessa , la principessa , la principessa , la principessa .\n",
      "--------------------------------------------------------------------------------\n"
     ]
    },
    {
     "name": "stderr",
     "output_type": "stream",
     "text": [
      "Processing Epoch 03: 100%|████████████████████████████████████████████████████████████| 1819/1819 [10:40<00:00,  2.84it/s, loss=5.163]\n",
      "/bin/sh: 1: ssty: not found\n"
     ]
    },
    {
     "name": "stdout",
     "output_type": "stream",
     "text": [
      "--------------------------------------------------------------------------------\n",
      "    SOURCE: Levin was vexed with Oblonsky for carelessly leaving it to the boy's mother to look after his lessons which she did not understand, instead of doing it himself, and he was vexed with the masters also for teaching the children so badly; but he promised his sister-in-law to give the lessons in the way she wished.\n",
      "    TARGET: Levin era urtato e contro Stepan Arkad’ic, perché per la sua incuria non lui, ma la madre si occupava di sorvegliare gli studi di cui non capiva nulla, e contro i professori che insegnavano così male ai ragazzi; ma aveva promesso alla cognata di far lezione così come voleva lei.\n",
      " PREDICTED: Levin era con Stepan Arkad ’ ic , con la madre , che aveva detto , non aveva visto la madre , che non aveva mai detto che non aveva mai detto , e che egli si era con la moglie , ma egli si era con la moglie .\n",
      "--------------------------------------------------------------------------------\n",
      "    SOURCE: The station-master, on the other hand, was convinced it would start from the local.\n",
      "    TARGET: Il capostazione, d’altra parte, era convinto che sarebbe partito dalla piattaforma dei treni locali.\n",
      " PREDICTED: Il vecchio vecchio , il tè , era stato stato il capo .\n",
      "--------------------------------------------------------------------------------\n"
     ]
    },
    {
     "name": "stderr",
     "output_type": "stream",
     "text": [
      "Processing Epoch 04: 100%|████████████████████████████████████████████████████████████| 1819/1819 [10:41<00:00,  2.84it/s, loss=4.368]\n",
      "/bin/sh: 1: ssty: not found\n"
     ]
    },
    {
     "name": "stdout",
     "output_type": "stream",
     "text": [
      "--------------------------------------------------------------------------------\n",
      "    SOURCE: No, not breaks it, but weakens it.\n",
      "    TARGET: Ammettiamo che non la rompa, ma la indebolisce.\n",
      " PREDICTED: No , non mi , ma .\n",
      "--------------------------------------------------------------------------------\n",
      "    SOURCE: 'Come, there is not much of a crowd now,' said Vronsky.\n",
      "    TARGET: — Andiamo, ora c’è poca gente — disse Vronskij.\n",
      " PREDICTED: — Venite , non è vero — disse Vronskij .\n",
      "--------------------------------------------------------------------------------\n"
     ]
    },
    {
     "name": "stderr",
     "output_type": "stream",
     "text": [
      "Processing Epoch 05: 100%|████████████████████████████████████████████████████████████| 1819/1819 [10:41<00:00,  2.84it/s, loss=4.498]\n",
      "/bin/sh: 1: ssty: not found\n"
     ]
    },
    {
     "name": "stdout",
     "output_type": "stream",
     "text": [
      "--------------------------------------------------------------------------------\n",
      "    SOURCE: CHAPTER VII\n",
      "    TARGET: VII.\n",
      " PREDICTED: VII\n",
      "--------------------------------------------------------------------------------\n",
      "    SOURCE: I shall see it at once by their eyes.\n",
      "    TARGET: Me ne accorgerò subito dagli occhi.\n",
      " PREDICTED: Mi piace di nuovo , con gli occhi .\n",
      "--------------------------------------------------------------------------------\n"
     ]
    },
    {
     "name": "stderr",
     "output_type": "stream",
     "text": [
      "Processing Epoch 06: 100%|████████████████████████████████████████████████████████████| 1819/1819 [10:41<00:00,  2.84it/s, loss=4.603]\n",
      "/bin/sh: 1: ssty: not found\n"
     ]
    },
    {
     "name": "stdout",
     "output_type": "stream",
     "text": [
      "--------------------------------------------------------------------------------\n",
      "    SOURCE: Oblonsky was firmly convinced that the business he wished to serve was new, alive, and honest; but that morning when Bolgarinov, with obvious intention, made him wait two hours in his waiting-room with other petitioners, he had suddenly felt uncomfortable.\n",
      "    TARGET: Stepan Arkad’ic sapeva bene che il lavoro che voleva intraprendere era un lavoro nuovo, vivo e onesto; ma quando quella mattina Bolgarinov, evidentemente apposta, lo aveva fatto attendere due ore con gli altri sollecitatori nella sala di ricevimento, a un tratto, si era sentito a disagio.\n",
      " PREDICTED: Stepan Arkad ’ ic aveva pensato a questo , voleva , ma aveva avuto una nuova nuova nuova , e , dopo aver notato , aveva preso a sedere , aveva già appena preso due volte , gli era entrato in un tratto , aveva visto a un tratto .\n",
      "--------------------------------------------------------------------------------\n",
      "    SOURCE: Everything the good man said was full of affection, and I could hardly refrain from tears while he spoke; in short, I took one hundred of the moidores, and called for a pen and ink to give him a receipt for them: then I returned him the rest, and told him if ever I had possession of the plantation I would return the other to him also (as, indeed, I afterwards did); and that as to the bill of sale of his part in his son’s ship, I would not take it by any means; but that if I wanted the money, I found he was honest enough to pay me; and if I did not, but came to receive what he gave me reason to expect, I would never have a penny more from him.\n",
      "    TARGET: In somma accettai cento dei moidori offertimi, e fattomi dare calamaio e penna, gliene feci la ricevuta. Nel restituirgli il restante lo assicurai che, se fossi tornato a possesso della mia piantagione, avrei considerati come un debito verso di lui anche i cento moidori allora accettati; e così veramente feci da poi. — «Quanto alle carte, continuai, che provano i diritti vostri e di vostro figlio sul vascello mercantile, di cui mi parlate, non voglio nè manco toccarle.\n",
      " PREDICTED: Tutto il vecchio diceva che era stato un uomo di lagrime , e io non poteva con le mie mani ; e io , un po ’ di grano , mi disse con un po ’ di grano per , e lo Spagnuolo di , come se lo avesse detto , mi avrebbe detto , come se non fosse stato , e che io mi avrebbe potuto il mio dovere , e che io mi avrebbe potuto il mio dovere , come io non mi avrebbe potuto , e che io non mi avrebbe potuto , e che io non mi avrebbe potuto il mio figlio .\n",
      "--------------------------------------------------------------------------------\n"
     ]
    },
    {
     "name": "stderr",
     "output_type": "stream",
     "text": [
      "Processing Epoch 07: 100%|████████████████████████████████████████████████████████████| 1819/1819 [10:42<00:00,  2.83it/s, loss=3.696]\n",
      "/bin/sh: 1: ssty: not found\n"
     ]
    },
    {
     "name": "stdout",
     "output_type": "stream",
     "text": [
      "--------------------------------------------------------------------------------\n",
      "    SOURCE: \"He talks little, sir: what he does say is ever to the point.\n",
      "    TARGET: — Parla poco, signore, ma si fa ascoltare con interesse.\n",
      " PREDICTED: — Ha parlato , signore ; cosa dice che cosa sia accaduto .\n",
      "--------------------------------------------------------------------------------\n",
      "    SOURCE: God is merciful... thank you...' he went on, no longer knowing what he was saying, and after responding to his wife's wet kiss which he felt on his hand, he went out.\n",
      "    TARGET: Dio è misericordioso... grazie... — disse, non sapendo già più neppur lui cosa dire e, rispondendo al bacio umido di lei sulla sua mano, uscì dalla stanza.\n",
      " PREDICTED: Iddio è la sua ... — egli disse , senza capire , e non sapendo che cosa era la moglie di lui e di sotto la moglie , la quale sentiva che egli sentiva in mano .\n",
      "--------------------------------------------------------------------------------\n"
     ]
    },
    {
     "name": "stderr",
     "output_type": "stream",
     "text": [
      "Processing Epoch 08: 100%|████████████████████████████████████████████████████████████| 1819/1819 [10:41<00:00,  2.84it/s, loss=4.089]\n",
      "/bin/sh: 1: ssty: not found\n"
     ]
    },
    {
     "name": "stdout",
     "output_type": "stream",
     "text": [
      "--------------------------------------------------------------------------------\n",
      "    SOURCE: Taking a box of sweets from the mantelpiece where he had put it the day before, he chose two sweets which he knew she liked best, a chocolate and a coloured cream.\n",
      "    TARGET: Prese dal camino, là dove l’aveva messa il giorno prima, una scatola di dolci e gliene diede due, scegliendole i preferiti, uno di cioccolato e uno fondente.\n",
      " PREDICTED: Dopo aver bevuto un po ’ di fiori di , dove aveva cessato di , lo sapeva bene , e gli altri due un ’ .\n",
      "--------------------------------------------------------------------------------\n",
      "    SOURCE: 'How can he help being pleased at the Tsar's favour?\n",
      "    TARGET: — E come non esser contento del favore dello zar?\n",
      " PREDICTED: — Come mai egli si può fare molto conto del popolo ?\n",
      "--------------------------------------------------------------------------------\n"
     ]
    },
    {
     "name": "stderr",
     "output_type": "stream",
     "text": [
      "Processing Epoch 09: 100%|████████████████████████████████████████████████████████████| 1819/1819 [10:41<00:00,  2.83it/s, loss=3.756]\n",
      "/bin/sh: 1: ssty: not found\n"
     ]
    },
    {
     "name": "stdout",
     "output_type": "stream",
     "text": [
      "--------------------------------------------------------------------------------\n",
      "    SOURCE: All the inhabitants of Hampton and Moulsey dress themselves up in boating costume, and come and mouch round the lock with their dogs, and flirt, and smoke, and watch the boats; and, altogether, what with the caps and jackets of the men, the pretty coloured dresses of the women, the excited dogs, the moving boats, the white sails, the pleasant landscape, and the sparkling water, it is one of the gayest sights I know of near this dull old London town.\n",
      "    TARGET: Tutti gli abitanti di Hampton e di Moulsey si vestono in costume fluviale e vanno a gironzare intorno al fiume con i loro cani, e corteggiano le ragazze, fremono e guardano le barche; e fra i berretti e le giacche degli nomini, le belle acconciature colorate delle donne, i latrati festosi dei cani, le barche che passano, le vele bianche, il bel panorama e lo scintillio dell’acqua, si gode assolutamente uno dei più bei spettacoli visibili nei pressi di questa vecchia e fosca città di Londra.\n",
      " PREDICTED: Tutti gli altri si a rimorchio , e a un costume di barca a a rimorchio , e a circa due minuti si e ; e le sale e i pasticci , e i piatti e le di sotto il polso , le , le di sotto le , le di sotto le , le di vita , lo di vita in mezzo di vita , di Londra è un tratto a .\n",
      "--------------------------------------------------------------------------------\n",
      "    SOURCE: The conversation was broken by this remark, and it became necessary to find another topic.\n",
      "    TARGET: La conversazione fu interrotta da questa osservazione, e bisognò trovare un altro tema.\n",
      " PREDICTED: La conversazione fu interrotta da una canzone , e si doveva fare a un ’ altra cosa .\n",
      "--------------------------------------------------------------------------------\n"
     ]
    }
   ],
   "source": [
    "from config import get_config\n",
    "cfg = get_config()\n",
    "cfg['batch_size'] = 16\n",
    "cfg['preload'] = None\n",
    "cfg['num_epochs'] = 10\n",
    "\n",
    "from train import train_model\n",
    "\n",
    "train_model(cfg)"
   ]
  },
  {
   "cell_type": "code",
   "execution_count": null,
   "id": "9d069efb",
   "metadata": {},
   "outputs": [],
   "source": []
  }
 ],
 "metadata": {
  "kernelspec": {
   "display_name": "Python 3 (ipykernel)",
   "language": "python",
   "name": "python3"
  },
  "language_info": {
   "codemirror_mode": {
    "name": "ipython",
    "version": 3
   },
   "file_extension": ".py",
   "mimetype": "text/x-python",
   "name": "python",
   "nbconvert_exporter": "python",
   "pygments_lexer": "ipython3",
   "version": "3.9.15"
  }
 },
 "nbformat": 4,
 "nbformat_minor": 5
}
