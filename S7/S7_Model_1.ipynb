{
  "nbformat": 4,
  "nbformat_minor": 0,
  "metadata": {
    "colab": {
      "provenance": [],
      "gpuType": "T4"
    },
    "kernelspec": {
      "name": "python3",
      "display_name": "Python 3"
    },
    "accelerator": "GPU"
  },
  "cells": [
    {
      "cell_type": "markdown",
      "metadata": {
        "id": "aO-7t1Y7-hV4"
      },
      "source": [
        "# Import Libraries"
      ]
    },
    {
      "cell_type": "code",
      "metadata": {
        "id": "8kH16rnZ7wt_"
      },
      "source": [
        "from __future__ import print_function\n",
        "import torch\n",
        "import torch.nn as nn\n",
        "import torch.nn.functional as F\n",
        "import torch.optim as optim\n",
        "from torchvision import datasets, transforms"
      ],
      "execution_count": null,
      "outputs": []
    },
    {
      "cell_type": "markdown",
      "source": [
        "## Data Transformations\n",
        "\n",
        "We first start with defining our data transformations. We need to think what our data is and how can we augment it to correct represent images which it might not see otherwise.\n"
      ],
      "metadata": {
        "id": "3YUvkLJ9Lvfi"
      }
    },
    {
      "cell_type": "code",
      "metadata": {
        "id": "YtssFUKb-jqx"
      },
      "source": [
        "# Train Phase transformations\n",
        "train_transforms = transforms.Compose([\n",
        "                                      #  transforms.Resize((28, 28)),\n",
        "                                      #  transforms.ColorJitter(brightness=0.10, contrast=0.1, saturation=0.10, hue=0.1),\n",
        "                                       transforms.ToTensor(),\n",
        "                                       transforms.Normalize((0.1307,), (0.3081,)) # The mean and std have to be sequences (e.g., tuples), therefore you should add a comma after the values.\n",
        "                                       # Note the difference between (0.1307) and (0.1307,)\n",
        "                                       ])\n",
        "\n",
        "# Test Phase transformations\n",
        "test_transforms = transforms.Compose([\n",
        "                                      #  transforms.Resize((28, 28)),\n",
        "                                      #  transforms.ColorJitter(brightness=0.10, contrast=0.1, saturation=0.10, hue=0.1),\n",
        "                                       transforms.ToTensor(),\n",
        "                                       transforms.Normalize((0.1307,), (0.3081,))\n",
        "                                       ])\n"
      ],
      "execution_count": null,
      "outputs": []
    },
    {
      "cell_type": "markdown",
      "metadata": {
        "id": "oQciFYo2B1mO"
      },
      "source": [
        "# Dataset and Creating Train/Test Split"
      ]
    },
    {
      "cell_type": "code",
      "metadata": {
        "id": "_4A84rlfDA23"
      },
      "source": [
        "train = datasets.MNIST('./data', train=True, download=True, transform=train_transforms)\n",
        "test = datasets.MNIST('./data', train=False, download=True, transform=test_transforms)"
      ],
      "execution_count": null,
      "outputs": []
    },
    {
      "cell_type": "markdown",
      "metadata": {
        "id": "qgldp_3-Dn0c"
      },
      "source": [
        "# Dataloader Arguments & Test/Train Dataloaders\n"
      ]
    },
    {
      "cell_type": "code",
      "metadata": {
        "id": "C8OLDR79DrHG",
        "colab": {
          "base_uri": "https://localhost:8080/"
        },
        "outputId": "998b6f72-bc58-4947-eda4-64be5f9fe08a"
      },
      "source": [
        "SEED = 1\n",
        "\n",
        "# CUDA?\n",
        "cuda = torch.cuda.is_available()\n",
        "print(\"CUDA Available?\", cuda)\n",
        "\n",
        "# For reproducibility\n",
        "torch.manual_seed(SEED)\n",
        "\n",
        "if cuda:\n",
        "    torch.cuda.manual_seed(SEED)\n",
        "\n",
        "# dataloader arguments - something you'll fetch these from cmdprmt\n",
        "dataloader_args = dict(shuffle=True, batch_size=128, num_workers=4, pin_memory=True) if cuda else dict(shuffle=True, batch_size=64)\n",
        "\n",
        "# train dataloader\n",
        "train_loader = torch.utils.data.DataLoader(train, **dataloader_args)\n",
        "\n",
        "# test dataloader\n",
        "test_loader = torch.utils.data.DataLoader(test, **dataloader_args)"
      ],
      "execution_count": null,
      "outputs": [
        {
          "output_type": "stream",
          "name": "stdout",
          "text": [
            "CUDA Available? True\n"
          ]
        },
        {
          "output_type": "stream",
          "name": "stderr",
          "text": [
            "/usr/local/lib/python3.10/dist-packages/torch/utils/data/dataloader.py:560: UserWarning: This DataLoader will create 4 worker processes in total. Our suggested max number of worker in current system is 2, which is smaller than what this DataLoader is going to create. Please be aware that excessive worker creation might get DataLoader running slow or even freeze, lower the worker number to avoid potential slowness/freeze if necessary.\n",
            "  warnings.warn(_create_warning_msg(\n"
          ]
        }
      ]
    },
    {
      "cell_type": "markdown",
      "metadata": {
        "id": "-TFjoFekE_va"
      },
      "source": [
        "# Data Statistics\n",
        "\n",
        "It is important to know your data very well. Let's check some of the statistics around our data and how it actually looks like"
      ]
    },
    {
      "cell_type": "code",
      "metadata": {
        "id": "hWZPPo3yEHDW",
        "colab": {
          "base_uri": "https://localhost:8080/",
          "height": 656
        },
        "outputId": "4c60bd8a-23c4-4c10-c6e6-85047af61602"
      },
      "source": [
        "# We'd need to convert it into Numpy! Remember above we have converted it into tensors already\n",
        "train_data = train.train_data\n",
        "train_data = train.transform(train_data.numpy())\n",
        "\n",
        "print('[Train]')\n",
        "print(' - Numpy Shape:', train.train_data.cpu().numpy().shape)\n",
        "print(' - Tensor Shape:', train.train_data.size())\n",
        "print(' - min:', torch.min(train_data))\n",
        "print(' - max:', torch.max(train_data))\n",
        "print(' - mean:', torch.mean(train_data))\n",
        "print(' - std:', torch.std(train_data))\n",
        "print(' - var:', torch.var(train_data))\n",
        "\n",
        "dataiter = iter(train_loader)\n",
        "images, labels = next(dataiter)\n",
        "\n",
        "print(images.shape)\n",
        "print(labels.shape)\n",
        "\n",
        "# Let's visualize some of the images\n",
        "%matplotlib inline\n",
        "import matplotlib.pyplot as plt\n",
        "\n",
        "plt.imshow(images[0].numpy().squeeze(), cmap='gray_r')\n"
      ],
      "execution_count": null,
      "outputs": [
        {
          "output_type": "stream",
          "name": "stderr",
          "text": [
            "/usr/local/lib/python3.10/dist-packages/torchvision/datasets/mnist.py:75: UserWarning: train_data has been renamed data\n",
            "  warnings.warn(\"train_data has been renamed data\")\n"
          ]
        },
        {
          "output_type": "stream",
          "name": "stdout",
          "text": [
            "[Train]\n",
            " - Numpy Shape: (60000, 28, 28)\n",
            " - Tensor Shape: torch.Size([60000, 28, 28])\n",
            " - min: tensor(-0.4242)\n",
            " - max: tensor(2.8215)\n",
            " - mean: tensor(-0.0001)\n",
            " - std: tensor(1.0000)\n",
            " - var: tensor(1.0001)\n",
            "torch.Size([128, 1, 28, 28])\n",
            "torch.Size([128])\n"
          ]
        },
        {
          "output_type": "execute_result",
          "data": {
            "text/plain": [
              "<matplotlib.image.AxesImage at 0x7f578f58b1c0>"
            ]
          },
          "metadata": {},
          "execution_count": 5
        },
        {
          "output_type": "display_data",
          "data": {
            "text/plain": [
              "<Figure size 640x480 with 1 Axes>"
            ],
            "image/png": "[encoded data removed]"
          },
          "metadata": {}
        }
      ]
    },
    {
      "cell_type": "markdown",
      "metadata": {
        "id": "7l9lNaWYKuik"
      },
      "source": [
        "## MORE\n",
        "\n",
        "It is important that we view as many images as possible. This is required to get some idea on image augmentation later on"
      ]
    },
    {
      "cell_type": "code",
      "metadata": {
        "id": "hXXAg8hbK16u",
        "colab": {
          "base_uri": "https://localhost:8080/",
          "height": 395
        },
        "outputId": "ca059db1-3eba-41d4-e9c8-886a14755fc8"
      },
      "source": [
        "figure = plt.figure()\n",
        "num_of_images = 60\n",
        "for index in range(1, num_of_images + 1):\n",
        "    plt.subplot(6, 10, index)\n",
        "    plt.axis('off')\n",
        "    plt.imshow(images[index].numpy().squeeze(), cmap='gray_r')"
      ],
      "execution_count": null,
      "outputs": [
        {
          "output_type": "display_data",
          "data": {
            "text/plain": [
              "<Figure size 640x480 with 60 Axes>"
            ],
            "image/png": "[encoded data removed]"
          },
          "metadata": {}
        }
      ]
    },
    {
      "cell_type": "markdown",
      "metadata": {
        "id": "JF5-8_I3G6ix"
      },
      "source": [
        "# How did we get those mean and std values which we used above?\n",
        "\n",
        "Let's run a small experiment"
      ]
    },
    {
      "cell_type": "code",
      "metadata": {
        "id": "yooPHm_aFc5A",
        "colab": {
          "base_uri": "https://localhost:8080/"
        },
        "outputId": "43c07992-2c08-4ad4-cb0b-258609b6e810"
      },
      "source": [
        "# simple transform\n",
        "simple_transforms = transforms.Compose([\n",
        "                                      #  transforms.Resize((28, 28)),\n",
        "                                      #  transforms.ColorJitter(brightness=0.10, contrast=0.1, saturation=0.10, hue=0.1),\n",
        "                                       transforms.ToTensor(),\n",
        "                                      #  transforms.Normalize((0.1307,), (0.3081,)) # The mean and std have to be sequences (e.g., tuples), therefore you should add a comma after the values.\n",
        "                                       # Note the difference between (0.1307) and (0.1307,)\n",
        "                                       ])\n",
        "exp = datasets.MNIST('./data', train=True, download=True, transform=simple_transforms)\n",
        "exp_data = exp.train_data\n",
        "exp_data = exp.transform(exp_data.numpy())\n",
        "\n",
        "print('[Train]')\n",
        "print(' - Numpy Shape:', exp.train_data.cpu().numpy().shape)\n",
        "print(' - Tensor Shape:', exp.train_data.size())\n",
        "print(' - min:', torch.min(exp_data))\n",
        "print(' - max:', torch.max(exp_data))\n",
        "print(' - mean:', torch.mean(exp_data))\n",
        "print(' - std:', torch.std(exp_data))\n",
        "print(' - var:', torch.var(exp_data))"
      ],
      "execution_count": null,
      "outputs": [
        {
          "output_type": "stream",
          "name": "stdout",
          "text": [
            "[Train]\n",
            " - Numpy Shape: (60000, 28, 28)\n",
            " - Tensor Shape: torch.Size([60000, 28, 28])\n",
            " - min: tensor(0.)\n",
            " - max: tensor(1.)\n",
            " - mean: tensor(0.1307)\n",
            " - std: tensor(0.3081)\n",
            " - var: tensor(0.0949)\n"
          ]
        }
      ]
    },
    {
      "cell_type": "markdown",
      "metadata": {
        "id": "ubQL3H6RJL3h"
      },
      "source": [
        "# The model\n",
        "Let's start with the model we first saw"
      ]
    },
    {
      "cell_type": "code",
      "metadata": {
        "id": "7FXQlB9kH1ov"
      },
      "source": [
        "class Net(nn.Module):\n",
        "    def __init__(self):\n",
        "        super(Net, self).__init__()\n",
        "        self.conv1 = nn.Conv2d(1, 32, 3, padding=1)\n",
        "        self.conv2 = nn.Conv2d(32, 64, 3, padding=1)\n",
        "        self.pool1 = nn.MaxPool2d(2, 2)\n",
        "        self.conv3 = nn.Conv2d(64, 128, 3, padding=1)\n",
        "        self.conv4 = nn.Conv2d(128, 256, 3, padding=1)\n",
        "        self.pool2 = nn.MaxPool2d(2, 2)\n",
        "        self.conv5 = nn.Conv2d(256, 512, 3)\n",
        "        self.conv6 = nn.Conv2d(512, 512, 3)\n",
        "        self.conv7 = nn.Conv2d(512, 10, 3)\n",
        "\n",
        "    def forward(self, x):\n",
        "        x = self.pool1(F.relu(self.conv2(F.relu(self.conv1(x)))))\n",
        "        x = self.pool2(F.relu(self.conv4(F.relu(self.conv3(x)))))\n",
        "        x = F.relu(self.conv6(F.relu(self.conv5(x))))\n",
        "        # x = F.relu(self.conv7(x))\n",
        "        x = self.conv7(x)\n",
        "        x = x.view(-1, 10)\n",
        "        return F.log_softmax(x, dim=-1)"
      ],
      "execution_count": null,
      "outputs": []
    },
    {
      "cell_type": "markdown",
      "metadata": {
        "id": "M3-vp8X9LCWo"
      },
      "source": [
        "# Model Params\n",
        "Can't emphasize on how important viewing Model Summary is.\n",
        "Unfortunately, there is no in-built model visualizer, so we have to take external help"
      ]
    },
    {
      "cell_type": "code",
      "metadata": {
        "id": "5skB97zIJQQe",
        "colab": {
          "base_uri": "https://localhost:8080/"
        },
        "outputId": "a1a5fc79-f7f9-41e9-9c2a-3e7100cae170"
      },
      "source": [
        "!pip install torchsummary\n",
        "from torchsummary import summary\n",
        "use_cuda = torch.cuda.is_available()\n",
        "device = torch.device(\"cuda\" if use_cuda else \"cpu\")\n",
        "print(device)\n",
        "model = Net().to(device)\n",
        "summary(model, input_size=(1, 28, 28))"
      ],
      "execution_count": null,
      "outputs": [
        {
          "output_type": "stream",
          "name": "stdout",
          "text": [
            "Looking in indexes: https://pypi.org/simple, https://us-python.pkg.dev/colab-wheels/public/simple/\n",
            "Requirement already satisfied: torchsummary in /usr/local/lib/python3.10/dist-packages (1.5.1)\n",
            "cuda\n",
            "----------------------------------------------------------------\n",
            "        Layer (type)               Output Shape         Param #\n",
            "================================================================\n",
            "            Conv2d-1           [-1, 32, 28, 28]             320\n",
            "            Conv2d-2           [-1, 64, 28, 28]          18,496\n",
            "         MaxPool2d-3           [-1, 64, 14, 14]               0\n",
            "            Conv2d-4          [-1, 128, 14, 14]          73,856\n",
            "            Conv2d-5          [-1, 256, 14, 14]         295,168\n",
            "         MaxPool2d-6            [-1, 256, 7, 7]               0\n",
            "            Conv2d-7            [-1, 512, 5, 5]       1,180,160\n",
            "            Conv2d-8            [-1, 512, 3, 3]       2,359,808\n",
            "            Conv2d-9             [-1, 10, 1, 1]          46,090\n",
            "================================================================\n",
            "Total params: 3,973,898\n",
            "Trainable params: 3,973,898\n",
            "Non-trainable params: 0\n",
            "----------------------------------------------------------------\n",
            "Input size (MB): 0.00\n",
            "Forward/backward pass size (MB): 1.47\n",
            "Params size (MB): 15.16\n",
            "Estimated Total Size (MB): 16.63\n",
            "----------------------------------------------------------------\n"
          ]
        }
      ]
    },
    {
      "cell_type": "markdown",
      "metadata": {
        "id": "1__x_SbrL7z3"
      },
      "source": [
        "# Training and Testing\n",
        "\n",
        "All right, so we have 6.3M params, and that's too many, we know that. But the purpose of this notebook is to set things right for our future experiments.\n",
        "\n",
        "Looking at logs can be boring, so we'll introduce **tqdm** progressbar to get cooler logs.\n",
        "\n",
        "Let's write train and test functions"
      ]
    },
    {
      "cell_type": "code",
      "metadata": {
        "id": "fbkF2nN_LYIb"
      },
      "source": [
        "from tqdm import tqdm\n",
        "\n",
        "train_losses = []\n",
        "test_losses = []\n",
        "train_acc = []\n",
        "test_acc = []\n",
        "\n",
        "def train(model, device, train_loader, optimizer, epoch):\n",
        "  model.train()\n",
        "  pbar = tqdm(train_loader)\n",
        "  correct = 0\n",
        "  processed = 0\n",
        "  for batch_idx, (data, target) in enumerate(pbar):\n",
        "    # get samples\n",
        "    data, target = data.to(device), target.to(device)\n",
        "\n",
        "    # Init\n",
        "    optimizer.zero_grad()\n",
        "    # In PyTorch, we need to set the gradients to zero before starting to do backpropragation because PyTorch accumulates the gradients on subsequent backward passes.\n",
        "    # Because of this, when you start your training loop, ideally you should zero out the gradients so that you do the parameter update correctly.\n",
        "\n",
        "    # Predict\n",
        "    y_pred = model(data)\n",
        "\n",
        "    # Calculate loss\n",
        "    loss = F.nll_loss(y_pred, target)\n",
        "    train_losses.append(loss)\n",
        "\n",
        "    # Backpropagation\n",
        "    loss.backward()\n",
        "    optimizer.step()\n",
        "\n",
        "    # Update pbar-tqdm\n",
        "\n",
        "    pred = y_pred.argmax(dim=1, keepdim=True)  # get the index of the max log-probability\n",
        "    correct += pred.eq(target.view_as(pred)).sum().item()\n",
        "    processed += len(data)\n",
        "\n",
        "    pbar.set_description(desc= f'Loss={loss.item()} Batch_id={batch_idx} Accuracy={100*correct/processed:0.2f}')\n",
        "    train_acc.append(100*correct/processed)\n",
        "\n",
        "def test(model, device, test_loader):\n",
        "    model.eval()\n",
        "    test_loss = 0\n",
        "    correct = 0\n",
        "    with torch.no_grad():\n",
        "        for data, target in test_loader:\n",
        "            data, target = data.to(device), target.to(device)\n",
        "            output = model(data)\n",
        "            test_loss += F.nll_loss(output, target, reduction='sum').item()  # sum up batch loss\n",
        "            pred = output.argmax(dim=1, keepdim=True)  # get the index of the max log-probability\n",
        "            correct += pred.eq(target.view_as(pred)).sum().item()\n",
        "\n",
        "    test_loss /= len(test_loader.dataset)\n",
        "    test_losses.append(test_loss)\n",
        "\n",
        "    print('\\nTest set: Average loss: {:.4f}, Accuracy: {}/{} ({:.2f}%)\\n'.format(\n",
        "        test_loss, correct, len(test_loader.dataset),\n",
        "        100. * correct / len(test_loader.dataset)))\n",
        "\n",
        "    test_acc.append(100. * correct / len(test_loader.dataset))"
      ],
      "execution_count": null,
      "outputs": []
    },
    {
      "cell_type": "markdown",
      "metadata": {
        "id": "drokW8wWODKq"
      },
      "source": [
        "# Let's Train and test our model"
      ]
    },
    {
      "cell_type": "code",
      "metadata": {
        "id": "xMCFxeAKOB53",
        "colab": {
          "base_uri": "https://localhost:8080/"
        },
        "outputId": "9bd71073-3382-47c9-e414-0d0987036386"
      },
      "source": [
        "model =  Net().to(device)\n",
        "optimizer = optim.SGD(model.parameters(), lr=0.01, momentum=0.9)\n",
        "EPOCHS = 20\n",
        "for epoch in range(EPOCHS):\n",
        "    print(\"EPOCH:\", epoch)\n",
        "    train(model, device, train_loader, optimizer, epoch)\n",
        "    test(model, device, test_loader)"
      ],
      "execution_count": null,
      "outputs": [
        {
          "output_type": "stream",
          "name": "stdout",
          "text": [
            "EPOCH: 0\n"
          ]
        },
        {
          "output_type": "stream",
          "name": "stderr",
          "text": [
            "Loss=0.09102842956781387 Batch_id=468 Accuracy=85.29: 100%|██████████| 469/469 [00:27<00:00, 17.10it/s]\n"
          ]
        },
        {
          "output_type": "stream",
          "name": "stdout",
          "text": [
            "\n",
            "Test set: Average loss: 0.0655, Accuracy: 9788/10000 (97.88%)\n",
            "\n",
            "EPOCH: 1\n"
          ]
        },
        {
          "output_type": "stream",
          "name": "stderr",
          "text": [
            "Loss=0.05076773837208748 Batch_id=468 Accuracy=98.23: 100%|██████████| 469/469 [00:27<00:00, 17.09it/s]\n"
          ]
        },
        {
          "output_type": "stream",
          "name": "stdout",
          "text": [
            "\n",
            "Test set: Average loss: 0.0400, Accuracy: 9865/10000 (98.65%)\n",
            "\n",
            "EPOCH: 2\n"
          ]
        },
        {
          "output_type": "stream",
          "name": "stderr",
          "text": [
            "Loss=0.00663713226094842 Batch_id=468 Accuracy=98.92: 100%|██████████| 469/469 [00:23<00:00, 20.12it/s]\n"
          ]
        },
        {
          "output_type": "stream",
          "name": "stdout",
          "text": [
            "\n",
            "Test set: Average loss: 0.0333, Accuracy: 9895/10000 (98.95%)\n",
            "\n",
            "EPOCH: 3\n"
          ]
        },
        {
          "output_type": "stream",
          "name": "stderr",
          "text": [
            "Loss=0.027303500100970268 Batch_id=468 Accuracy=99.17: 100%|██████████| 469/469 [00:22<00:00, 20.98it/s]\n"
          ]
        },
        {
          "output_type": "stream",
          "name": "stdout",
          "text": [
            "\n",
            "Test set: Average loss: 0.0344, Accuracy: 9885/10000 (98.85%)\n",
            "\n",
            "EPOCH: 4\n"
          ]
        },
        {
          "output_type": "stream",
          "name": "stderr",
          "text": [
            "Loss=0.0019316297257319093 Batch_id=468 Accuracy=99.39: 100%|██████████| 469/469 [00:23<00:00, 19.75it/s]\n"
          ]
        },
        {
          "output_type": "stream",
          "name": "stdout",
          "text": [
            "\n",
            "Test set: Average loss: 0.0302, Accuracy: 9903/10000 (99.03%)\n",
            "\n",
            "EPOCH: 5\n"
          ]
        },
        {
          "output_type": "stream",
          "name": "stderr",
          "text": [
            "Loss=0.0205382127314806 Batch_id=468 Accuracy=99.56: 100%|██████████| 469/469 [00:21<00:00, 21.71it/s]\n"
          ]
        },
        {
          "output_type": "stream",
          "name": "stdout",
          "text": [
            "\n",
            "Test set: Average loss: 0.0307, Accuracy: 9913/10000 (99.13%)\n",
            "\n",
            "EPOCH: 6\n"
          ]
        },
        {
          "output_type": "stream",
          "name": "stderr",
          "text": [
            "Loss=0.03080729953944683 Batch_id=468 Accuracy=99.56: 100%|██████████| 469/469 [00:23<00:00, 20.34it/s]\n"
          ]
        },
        {
          "output_type": "stream",
          "name": "stdout",
          "text": [
            "\n",
            "Test set: Average loss: 0.0269, Accuracy: 9916/10000 (99.16%)\n",
            "\n",
            "EPOCH: 7\n"
          ]
        },
        {
          "output_type": "stream",
          "name": "stderr",
          "text": [
            "Loss=0.004306711722165346 Batch_id=468 Accuracy=99.72: 100%|██████████| 469/469 [00:22<00:00, 20.61it/s]\n"
          ]
        },
        {
          "output_type": "stream",
          "name": "stdout",
          "text": [
            "\n",
            "Test set: Average loss: 0.0280, Accuracy: 9914/10000 (99.14%)\n",
            "\n",
            "EPOCH: 8\n"
          ]
        },
        {
          "output_type": "stream",
          "name": "stderr",
          "text": [
            "Loss=0.05339357256889343 Batch_id=468 Accuracy=99.72: 100%|██████████| 469/469 [00:23<00:00, 20.17it/s]\n"
          ]
        },
        {
          "output_type": "stream",
          "name": "stdout",
          "text": [
            "\n",
            "Test set: Average loss: 0.0290, Accuracy: 9924/10000 (99.24%)\n",
            "\n",
            "EPOCH: 9\n"
          ]
        },
        {
          "output_type": "stream",
          "name": "stderr",
          "text": [
            "Loss=0.0009062846656888723 Batch_id=468 Accuracy=99.87: 100%|██████████| 469/469 [00:22<00:00, 20.40it/s]\n"
          ]
        },
        {
          "output_type": "stream",
          "name": "stdout",
          "text": [
            "\n",
            "Test set: Average loss: 0.0290, Accuracy: 9924/10000 (99.24%)\n",
            "\n",
            "EPOCH: 10\n"
          ]
        },
        {
          "output_type": "stream",
          "name": "stderr",
          "text": [
            "Loss=0.0034153375308960676 Batch_id=468 Accuracy=99.84: 100%|██████████| 469/469 [00:22<00:00, 21.17it/s]\n"
          ]
        },
        {
          "output_type": "stream",
          "name": "stdout",
          "text": [
            "\n",
            "Test set: Average loss: 0.0290, Accuracy: 9921/10000 (99.21%)\n",
            "\n",
            "EPOCH: 11\n"
          ]
        },
        {
          "output_type": "stream",
          "name": "stderr",
          "text": [
            "Loss=0.0008090814226306975 Batch_id=468 Accuracy=99.84: 100%|██████████| 469/469 [00:21<00:00, 21.66it/s]\n"
          ]
        },
        {
          "output_type": "stream",
          "name": "stdout",
          "text": [
            "\n",
            "Test set: Average loss: 0.0283, Accuracy: 9918/10000 (99.18%)\n",
            "\n",
            "EPOCH: 12\n"
          ]
        },
        {
          "output_type": "stream",
          "name": "stderr",
          "text": [
            "Loss=0.0011363894445821643 Batch_id=468 Accuracy=99.93: 100%|██████████| 469/469 [00:22<00:00, 21.21it/s]\n"
          ]
        },
        {
          "output_type": "stream",
          "name": "stdout",
          "text": [
            "\n",
            "Test set: Average loss: 0.0272, Accuracy: 9931/10000 (99.31%)\n",
            "\n",
            "EPOCH: 13\n"
          ]
        },
        {
          "output_type": "stream",
          "name": "stderr",
          "text": [
            "Loss=0.0003656520275399089 Batch_id=468 Accuracy=99.93: 100%|██████████| 469/469 [00:23<00:00, 20.08it/s]\n"
          ]
        },
        {
          "output_type": "stream",
          "name": "stdout",
          "text": [
            "\n",
            "Test set: Average loss: 0.0293, Accuracy: 9928/10000 (99.28%)\n",
            "\n",
            "EPOCH: 14\n"
          ]
        },
        {
          "output_type": "stream",
          "name": "stderr",
          "text": [
            "Loss=0.0024750952143222094 Batch_id=468 Accuracy=99.90: 100%|██████████| 469/469 [00:24<00:00, 18.84it/s]\n"
          ]
        },
        {
          "output_type": "stream",
          "name": "stdout",
          "text": [
            "\n",
            "Test set: Average loss: 0.0276, Accuracy: 9935/10000 (99.35%)\n",
            "\n",
            "EPOCH: 15\n"
          ]
        },
        {
          "output_type": "stream",
          "name": "stderr",
          "text": [
            "Loss=0.0002548433840274811 Batch_id=468 Accuracy=99.91: 100%|██████████| 469/469 [00:22<00:00, 21.29it/s]\n"
          ]
        },
        {
          "output_type": "stream",
          "name": "stdout",
          "text": [
            "\n",
            "Test set: Average loss: 0.0345, Accuracy: 9928/10000 (99.28%)\n",
            "\n",
            "EPOCH: 16\n"
          ]
        },
        {
          "output_type": "stream",
          "name": "stderr",
          "text": [
            "Loss=0.0019609550945460796 Batch_id=468 Accuracy=99.95: 100%|██████████| 469/469 [00:21<00:00, 21.36it/s]\n"
          ]
        },
        {
          "output_type": "stream",
          "name": "stdout",
          "text": [
            "\n",
            "Test set: Average loss: 0.0286, Accuracy: 9931/10000 (99.31%)\n",
            "\n",
            "EPOCH: 17\n"
          ]
        },
        {
          "output_type": "stream",
          "name": "stderr",
          "text": [
            "Loss=3.1614410545444116e-05 Batch_id=468 Accuracy=99.98: 100%|██████████| 469/469 [00:21<00:00, 21.41it/s]\n"
          ]
        },
        {
          "output_type": "stream",
          "name": "stdout",
          "text": [
            "\n",
            "Test set: Average loss: 0.0305, Accuracy: 9935/10000 (99.35%)\n",
            "\n",
            "EPOCH: 18\n"
          ]
        },
        {
          "output_type": "stream",
          "name": "stderr",
          "text": [
            "Loss=8.936574886320159e-06 Batch_id=468 Accuracy=99.98: 100%|██████████| 469/469 [00:22<00:00, 20.46it/s]\n"
          ]
        },
        {
          "output_type": "stream",
          "name": "stdout",
          "text": [
            "\n",
            "Test set: Average loss: 0.0357, Accuracy: 9931/10000 (99.31%)\n",
            "\n",
            "EPOCH: 19\n"
          ]
        },
        {
          "output_type": "stream",
          "name": "stderr",
          "text": [
            "Loss=0.00013819859304931015 Batch_id=468 Accuracy=99.98: 100%|██████████| 469/469 [00:23<00:00, 20.25it/s]\n"
          ]
        },
        {
          "output_type": "stream",
          "name": "stdout",
          "text": [
            "\n",
            "Test set: Average loss: 0.0307, Accuracy: 9936/10000 (99.36%)\n",
            "\n"
          ]
        }
      ]
    },
    {
      "cell_type": "code",
      "source": [
        "train_losses"
      ],
      "metadata": {
        "colab": {
          "base_uri": "https://localhost:8080/"
        },
        "id": "RrMn9jkmuDCW",
        "outputId": "2dc6df9b-21c2-4559-cf04-666d6f10989e"
      },
      "execution_count": null,
      "outputs": [
        {
          "output_type": "execute_result",
          "data": {
            "text/plain": [
              "[tensor(2.3032, device='cuda:0', grad_fn=<NllLossBackward0>),\n",
              " tensor(2.3029, device='cuda:0', grad_fn=<NllLossBackward0>),\n",
              " tensor(2.3020, device='cuda:0', grad_fn=<NllLossBackward0>),\n",
              " tensor(2.3017, device='cuda:0', grad_fn=<NllLossBackward0>),\n",
              " tensor(2.3028, device='cuda:0', grad_fn=<NllLossBackward0>),\n",
              " tensor(2.3010, device='cuda:0', grad_fn=<NllLossBackward0>),\n",
              " tensor(2.3016, device='cuda:0', grad_fn=<NllLossBackward0>),\n",
              " tensor(2.3011, device='cuda:0', grad_fn=<NllLossBackward0>),\n",
              " tensor(2.3016, device='cuda:0', grad_fn=<NllLossBackward0>),\n",
              " tensor(2.3007, device='cuda:0', grad_fn=<NllLossBackward0>),\n",
              " tensor(2.2995, device='cuda:0', grad_fn=<NllLossBackward0>),\n",
              " tensor(2.3004, device='cuda:0', grad_fn=<NllLossBackward0>),\n",
              " tensor(2.3005, device='cuda:0', grad_fn=<NllLossBackward0>),\n",
              " tensor(2.2973, device='cuda:0', grad_fn=<NllLossBackward0>),\n",
              " tensor(2.2995, device='cuda:0', grad_fn=<NllLossBackward0>),\n",
              " tensor(2.2973, device='cuda:0', grad_fn=<NllLossBackward0>),\n",
              " tensor(2.2965, device='cuda:0', grad_fn=<NllLossBackward0>),\n",
              " tensor(2.2946, device='cuda:0', grad_fn=<NllLossBackward0>),\n",
              " tensor(2.2975, device='cuda:0', grad_fn=<NllLossBackward0>),\n",
              " tensor(2.2963, device='cuda:0', grad_fn=<NllLossBackward0>),\n",
              " tensor(2.2938, device='cuda:0', grad_fn=<NllLossBackward0>),\n",
              " tensor(2.2969, device='cuda:0', grad_fn=<NllLossBackward0>),\n",
              " tensor(2.2949, device='cuda:0', grad_fn=<NllLossBackward0>),\n",
              " tensor(2.2907, device='cuda:0', grad_fn=<NllLossBackward0>),\n",
              " tensor(2.2948, device='cuda:0', grad_fn=<NllLossBackward0>),\n",
              " tensor(2.2918, device='cuda:0', grad_fn=<NllLossBackward0>),\n",
              " tensor(2.2964, device='cuda:0', grad_fn=<NllLossBackward0>),\n",
              " tensor(2.2940, device='cuda:0', grad_fn=<NllLossBackward0>),\n",
              " tensor(2.2888, device='cuda:0', grad_fn=<NllLossBackward0>),\n",
              " tensor(2.2912, device='cuda:0', grad_fn=<NllLossBackward0>),\n",
              " tensor(2.2886, device='cuda:0', grad_fn=<NllLossBackward0>),\n",
              " tensor(2.2868, device='cuda:0', grad_fn=<NllLossBackward0>),\n",
              " tensor(2.2841, device='cuda:0', grad_fn=<NllLossBackward0>),\n",
              " tensor(2.2848, device='cuda:0', grad_fn=<NllLossBackward0>),\n",
              " tensor(2.2762, device='cuda:0', grad_fn=<NllLossBackward0>),\n",
              " tensor(2.2920, device='cuda:0', grad_fn=<NllLossBackward0>),\n",
              " tensor(2.2902, device='cuda:0', grad_fn=<NllLossBackward0>),\n",
              " tensor(2.2805, device='cuda:0', grad_fn=<NllLossBackward0>),\n",
              " tensor(2.2831, device='cuda:0', grad_fn=<NllLossBackward0>),\n",
              " tensor(2.2703, device='cuda:0', grad_fn=<NllLossBackward0>),\n",
              " tensor(2.2851, device='cuda:0', grad_fn=<NllLossBackward0>),\n",
              " tensor(2.2709, device='cuda:0', grad_fn=<NllLossBackward0>),\n",
              " tensor(2.2736, device='cuda:0', grad_fn=<NllLossBackward0>),\n",
              " tensor(2.2688, device='cuda:0', grad_fn=<NllLossBackward0>),\n",
              " tensor(2.2660, device='cuda:0', grad_fn=<NllLossBackward0>),\n",
              " tensor(2.2594, device='cuda:0', grad_fn=<NllLossBackward0>),\n",
              " tensor(2.2705, device='cuda:0', grad_fn=<NllLossBackward0>),\n",
              " tensor(2.2492, device='cuda:0', grad_fn=<NllLossBackward0>),\n",
              " tensor(2.2403, device='cuda:0', grad_fn=<NllLossBackward0>),\n",
              " tensor(2.2444, device='cuda:0', grad_fn=<NllLossBackward0>),\n",
              " tensor(2.2264, device='cuda:0', grad_fn=<NllLossBackward0>),\n",
              " tensor(2.2288, device='cuda:0', grad_fn=<NllLossBackward0>),\n",
              " tensor(2.2440, device='cuda:0', grad_fn=<NllLossBackward0>),\n",
              " tensor(2.2184, device='cuda:0', grad_fn=<NllLossBackward0>),\n",
              " tensor(2.2040, device='cuda:0', grad_fn=<NllLossBackward0>),\n",
              " tensor(2.2279, device='cuda:0', grad_fn=<NllLossBackward0>),\n",
              " tensor(2.1836, device='cuda:0', grad_fn=<NllLossBackward0>),\n",
              " tensor(2.1435, device='cuda:0', grad_fn=<NllLossBackward0>),\n",
              " tensor(2.1180, device='cuda:0', grad_fn=<NllLossBackward0>),\n",
              " tensor(2.0899, device='cuda:0', grad_fn=<NllLossBackward0>),\n",
              " tensor(2.0789, device='cuda:0', grad_fn=<NllLossBackward0>),\n",
              " tensor(2.0246, device='cuda:0', grad_fn=<NllLossBackward0>),\n",
              " tensor(1.9615, device='cuda:0', grad_fn=<NllLossBackward0>),\n",
              " tensor(1.8447, device='cuda:0', grad_fn=<NllLossBackward0>),\n",
              " tensor(1.7588, device='cuda:0', grad_fn=<NllLossBackward0>),\n",
              " tensor(1.7349, device='cuda:0', grad_fn=<NllLossBackward0>),\n",
              " tensor(1.4882, device='cuda:0', grad_fn=<NllLossBackward0>),\n",
              " tensor(1.2828, device='cuda:0', grad_fn=<NllLossBackward0>),\n",
              " tensor(1.1819, device='cuda:0', grad_fn=<NllLossBackward0>),\n",
              " tensor(1.3145, device='cuda:0', grad_fn=<NllLossBackward0>),\n",
              " tensor(1.2321, device='cuda:0', grad_fn=<NllLossBackward0>),\n",
              " tensor(1.1469, device='cuda:0', grad_fn=<NllLossBackward0>),\n",
              " tensor(1.2289, device='cuda:0', grad_fn=<NllLossBackward0>),\n",
              " tensor(0.7108, device='cuda:0', grad_fn=<NllLossBackward0>),\n",
              " tensor(0.8773, device='cuda:0', grad_fn=<NllLossBackward0>),\n",
              " tensor(0.7954, device='cuda:0', grad_fn=<NllLossBackward0>),\n",
              " tensor(0.7926, device='cuda:0', grad_fn=<NllLossBackward0>),\n",
              " tensor(0.7381, device='cuda:0', grad_fn=<NllLossBackward0>),\n",
              " tensor(0.6927, device='cuda:0', grad_fn=<NllLossBackward0>),\n",
              " tensor(0.5417, device='cuda:0', grad_fn=<NllLossBackward0>),\n",
              " tensor(0.7400, device='cuda:0', grad_fn=<NllLossBackward0>),\n",
              " tensor(0.6305, device='cuda:0', grad_fn=<NllLossBackward0>),\n",
              " tensor(0.6799, device='cuda:0', grad_fn=<NllLossBackward0>),\n",
              " tensor(0.4538, device='cuda:0', grad_fn=<NllLossBackward0>),\n",
              " tensor(0.7389, device='cuda:0', grad_fn=<NllLossBackward0>),\n",
              " tensor(0.5505, device='cuda:0', grad_fn=<NllLossBackward0>),\n",
              " tensor(0.5975, device='cuda:0', grad_fn=<NllLossBackward0>),\n",
              " tensor(0.4912, device='cuda:0', grad_fn=<NllLossBackward0>),\n",
              " tensor(0.4585, device='cuda:0', grad_fn=<NllLossBackward0>),\n",
              " tensor(0.5531, device='cuda:0', grad_fn=<NllLossBackward0>),\n",
              " tensor(0.5265, device='cuda:0', grad_fn=<NllLossBackward0>),\n",
              " tensor(0.4602, device='cuda:0', grad_fn=<NllLossBackward0>),\n",
              " tensor(0.4109, device='cuda:0', grad_fn=<NllLossBackward0>),\n",
              " tensor(0.4324, device='cuda:0', grad_fn=<NllLossBackward0>),\n",
              " tensor(0.5696, device='cuda:0', grad_fn=<NllLossBackward0>),\n",
              " tensor(0.5276, device='cuda:0', grad_fn=<NllLossBackward0>),\n",
              " tensor(0.3004, device='cuda:0', grad_fn=<NllLossBackward0>),\n",
              " tensor(0.4039, device='cuda:0', grad_fn=<NllLossBackward0>),\n",
              " tensor(0.3056, device='cuda:0', grad_fn=<NllLossBackward0>),\n",
              " tensor(0.3152, device='cuda:0', grad_fn=<NllLossBackward0>),\n",
              " tensor(0.4151, device='cuda:0', grad_fn=<NllLossBackward0>),\n",
              " tensor(0.4087, device='cuda:0', grad_fn=<NllLossBackward0>),\n",
              " tensor(0.2884, device='cuda:0', grad_fn=<NllLossBackward0>),\n",
              " tensor(0.3167, device='cuda:0', grad_fn=<NllLossBackward0>),\n",
              " tensor(0.3436, device='cuda:0', grad_fn=<NllLossBackward0>),\n",
              " tensor(0.4012, device='cuda:0', grad_fn=<NllLossBackward0>),\n",
              " tensor(0.4642, device='cuda:0', grad_fn=<NllLossBackward0>),\n",
              " tensor(0.4024, device='cuda:0', grad_fn=<NllLossBackward0>),\n",
              " tensor(0.3638, device='cuda:0', grad_fn=<NllLossBackward0>),\n",
              " tensor(0.2642, device='cuda:0', grad_fn=<NllLossBackward0>),\n",
              " tensor(0.3933, device='cuda:0', grad_fn=<NllLossBackward0>),\n",
              " tensor(0.3165, device='cuda:0', grad_fn=<NllLossBackward0>),\n",
              " tensor(0.3630, device='cuda:0', grad_fn=<NllLossBackward0>),\n",
              " tensor(0.2736, device='cuda:0', grad_fn=<NllLossBackward0>),\n",
              " tensor(0.2523, device='cuda:0', grad_fn=<NllLossBackward0>),\n",
              " tensor(0.4178, device='cuda:0', grad_fn=<NllLossBackward0>),\n",
              " tensor(0.5119, device='cuda:0', grad_fn=<NllLossBackward0>),\n",
              " tensor(0.2395, device='cuda:0', grad_fn=<NllLossBackward0>),\n",
              " tensor(0.2595, device='cuda:0', grad_fn=<NllLossBackward0>),\n",
              " tensor(0.2148, device='cuda:0', grad_fn=<NllLossBackward0>),\n",
              " tensor(0.2265, device='cuda:0', grad_fn=<NllLossBackward0>),\n",
              " tensor(0.3210, device='cuda:0', grad_fn=<NllLossBackward0>),\n",
              " tensor(0.3875, device='cuda:0', grad_fn=<NllLossBackward0>),\n",
              " tensor(0.1986, device='cuda:0', grad_fn=<NllLossBackward0>),\n",
              " tensor(0.2800, device='cuda:0', grad_fn=<NllLossBackward0>),\n",
              " tensor(0.1730, device='cuda:0', grad_fn=<NllLossBackward0>),\n",
              " tensor(0.2936, device='cuda:0', grad_fn=<NllLossBackward0>),\n",
              " tensor(0.1819, device='cuda:0', grad_fn=<NllLossBackward0>),\n",
              " tensor(0.2397, device='cuda:0', grad_fn=<NllLossBackward0>),\n",
              " tensor(0.3089, device='cuda:0', grad_fn=<NllLossBackward0>),\n",
              " tensor(0.3018, device='cuda:0', grad_fn=<NllLossBackward0>),\n",
              " tensor(0.2512, device='cuda:0', grad_fn=<NllLossBackward0>),\n",
              " tensor(0.3791, device='cuda:0', grad_fn=<NllLossBackward0>),\n",
              " tensor(0.1910, device='cuda:0', grad_fn=<NllLossBackward0>),\n",
              " tensor(0.1613, device='cuda:0', grad_fn=<NllLossBackward0>),\n",
              " tensor(0.3533, device='cuda:0', grad_fn=<NllLossBackward0>),\n",
              " tensor(0.1975, device='cuda:0', grad_fn=<NllLossBackward0>),\n",
              " tensor(0.3793, device='cuda:0', grad_fn=<NllLossBackward0>),\n",
              " tensor(0.3589, device='cuda:0', grad_fn=<NllLossBackward0>),\n",
              " tensor(0.2014, device='cuda:0', grad_fn=<NllLossBackward0>),\n",
              " tensor(0.2719, device='cuda:0', grad_fn=<NllLossBackward0>),\n",
              " tensor(0.1323, device='cuda:0', grad_fn=<NllLossBackward0>),\n",
              " tensor(0.2464, device='cuda:0', grad_fn=<NllLossBackward0>),\n",
              " tensor(0.2330, device='cuda:0', grad_fn=<NllLossBackward0>),\n",
              " tensor(0.2073, device='cuda:0', grad_fn=<NllLossBackward0>),\n",
              " tensor(0.2012, device='cuda:0', grad_fn=<NllLossBackward0>),\n",
              " tensor(0.2725, device='cuda:0', grad_fn=<NllLossBackward0>),\n",
              " tensor(0.1924, device='cuda:0', grad_fn=<NllLossBackward0>),\n",
              " tensor(0.1714, device='cuda:0', grad_fn=<NllLossBackward0>),\n",
              " tensor(0.1705, device='cuda:0', grad_fn=<NllLossBackward0>),\n",
              " tensor(0.1934, device='cuda:0', grad_fn=<NllLossBackward0>),\n",
              " tensor(0.1611, device='cuda:0', grad_fn=<NllLossBackward0>),\n",
              " tensor(0.2046, device='cuda:0', grad_fn=<NllLossBackward0>),\n",
              " tensor(0.1757, device='cuda:0', grad_fn=<NllLossBackward0>),\n",
              " tensor(0.1318, device='cuda:0', grad_fn=<NllLossBackward0>),\n",
              " tensor(0.1073, device='cuda:0', grad_fn=<NllLossBackward0>),\n",
              " tensor(0.1745, device='cuda:0', grad_fn=<NllLossBackward0>),\n",
              " tensor(0.2622, device='cuda:0', grad_fn=<NllLossBackward0>),\n",
              " tensor(0.1360, device='cuda:0', grad_fn=<NllLossBackward0>),\n",
              " tensor(0.2348, device='cuda:0', grad_fn=<NllLossBackward0>),\n",
              " tensor(0.3161, device='cuda:0', grad_fn=<NllLossBackward0>),\n",
              " tensor(0.2213, device='cuda:0', grad_fn=<NllLossBackward0>),\n",
              " tensor(0.2324, device='cuda:0', grad_fn=<NllLossBackward0>),\n",
              " tensor(0.2022, device='cuda:0', grad_fn=<NllLossBackward0>),\n",
              " tensor(0.1612, device='cuda:0', grad_fn=<NllLossBackward0>),\n",
              " tensor(0.3186, device='cuda:0', grad_fn=<NllLossBackward0>),\n",
              " tensor(0.1416, device='cuda:0', grad_fn=<NllLossBackward0>),\n",
              " tensor(0.1951, device='cuda:0', grad_fn=<NllLossBackward0>),\n",
              " tensor(0.1685, device='cuda:0', grad_fn=<NllLossBackward0>),\n",
              " tensor(0.1878, device='cuda:0', grad_fn=<NllLossBackward0>),\n",
              " tensor(0.1297, device='cuda:0', grad_fn=<NllLossBackward0>),\n",
              " tensor(0.1538, device='cuda:0', grad_fn=<NllLossBackward0>),\n",
              " tensor(0.1885, device='cuda:0', grad_fn=<NllLossBackward0>),\n",
              " tensor(0.1274, device='cuda:0', grad_fn=<NllLossBackward0>),\n",
              " tensor(0.2285, device='cuda:0', grad_fn=<NllLossBackward0>),\n",
              " tensor(0.1379, device='cuda:0', grad_fn=<NllLossBackward0>),\n",
              " tensor(0.3697, device='cuda:0', grad_fn=<NllLossBackward0>),\n",
              " tensor(0.0842, device='cuda:0', grad_fn=<NllLossBackward0>),\n",
              " tensor(0.2670, device='cuda:0', grad_fn=<NllLossBackward0>),\n",
              " tensor(0.1632, device='cuda:0', grad_fn=<NllLossBackward0>),\n",
              " tensor(0.1535, device='cuda:0', grad_fn=<NllLossBackward0>),\n",
              " tensor(0.2389, device='cuda:0', grad_fn=<NllLossBackward0>),\n",
              " tensor(0.1621, device='cuda:0', grad_fn=<NllLossBackward0>),\n",
              " tensor(0.1793, device='cuda:0', grad_fn=<NllLossBackward0>),\n",
              " tensor(0.1876, device='cuda:0', grad_fn=<NllLossBackward0>),\n",
              " tensor(0.2912, device='cuda:0', grad_fn=<NllLossBackward0>),\n",
              " tensor(0.2073, device='cuda:0', grad_fn=<NllLossBackward0>),\n",
              " tensor(0.1104, device='cuda:0', grad_fn=<NllLossBackward0>),\n",
              " tensor(0.1411, device='cuda:0', grad_fn=<NllLossBackward0>),\n",
              " tensor(0.2876, device='cuda:0', grad_fn=<NllLossBackward0>),\n",
              " tensor(0.2400, device='cuda:0', grad_fn=<NllLossBackward0>),\n",
              " tensor(0.1694, device='cuda:0', grad_fn=<NllLossBackward0>),\n",
              " tensor(0.1819, device='cuda:0', grad_fn=<NllLossBackward0>),\n",
              " tensor(0.1902, device='cuda:0', grad_fn=<NllLossBackward0>),\n",
              " tensor(0.1285, device='cuda:0', grad_fn=<NllLossBackward0>),\n",
              " tensor(0.2000, device='cuda:0', grad_fn=<NllLossBackward0>),\n",
              " tensor(0.1447, device='cuda:0', grad_fn=<NllLossBackward0>),\n",
              " tensor(0.2287, device='cuda:0', grad_fn=<NllLossBackward0>),\n",
              " tensor(0.1614, device='cuda:0', grad_fn=<NllLossBackward0>),\n",
              " tensor(0.1937, device='cuda:0', grad_fn=<NllLossBackward0>),\n",
              " tensor(0.0898, device='cuda:0', grad_fn=<NllLossBackward0>),\n",
              " tensor(0.1163, device='cuda:0', grad_fn=<NllLossBackward0>),\n",
              " tensor(0.2449, device='cuda:0', grad_fn=<NllLossBackward0>),\n",
              " tensor(0.1567, device='cuda:0', grad_fn=<NllLossBackward0>),\n",
              " tensor(0.1894, device='cuda:0', grad_fn=<NllLossBackward0>),\n",
              " tensor(0.1772, device='cuda:0', grad_fn=<NllLossBackward0>),\n",
              " tensor(0.1704, device='cuda:0', grad_fn=<NllLossBackward0>),\n",
              " tensor(0.1302, device='cuda:0', grad_fn=<NllLossBackward0>),\n",
              " tensor(0.1243, device='cuda:0', grad_fn=<NllLossBackward0>),\n",
              " tensor(0.0942, device='cuda:0', grad_fn=<NllLossBackward0>),\n",
              " tensor(0.1256, device='cuda:0', grad_fn=<NllLossBackward0>),\n",
              " tensor(0.2098, device='cuda:0', grad_fn=<NllLossBackward0>),\n",
              " tensor(0.0910, device='cuda:0', grad_fn=<NllLossBackward0>),\n",
              " tensor(0.1386, device='cuda:0', grad_fn=<NllLossBackward0>),\n",
              " tensor(0.1245, device='cuda:0', grad_fn=<NllLossBackward0>),\n",
              " tensor(0.1558, device='cuda:0', grad_fn=<NllLossBackward0>),\n",
              " tensor(0.0817, device='cuda:0', grad_fn=<NllLossBackward0>),\n",
              " tensor(0.1828, device='cuda:0', grad_fn=<NllLossBackward0>),\n",
              " tensor(0.1463, device='cuda:0', grad_fn=<NllLossBackward0>),\n",
              " tensor(0.1423, device='cuda:0', grad_fn=<NllLossBackward0>),\n",
              " tensor(0.0731, device='cuda:0', grad_fn=<NllLossBackward0>),\n",
              " tensor(0.1425, device='cuda:0', grad_fn=<NllLossBackward0>),\n",
              " tensor(0.1218, device='cuda:0', grad_fn=<NllLossBackward0>),\n",
              " tensor(0.0947, device='cuda:0', grad_fn=<NllLossBackward0>),\n",
              " tensor(0.0981, device='cuda:0', grad_fn=<NllLossBackward0>),\n",
              " tensor(0.0602, device='cuda:0', grad_fn=<NllLossBackward0>),\n",
              " tensor(0.1135, device='cuda:0', grad_fn=<NllLossBackward0>),\n",
              " tensor(0.1120, device='cuda:0', grad_fn=<NllLossBackward0>),\n",
              " tensor(0.2377, device='cuda:0', grad_fn=<NllLossBackward0>),\n",
              " tensor(0.1664, device='cuda:0', grad_fn=<NllLossBackward0>),\n",
              " tensor(0.1032, device='cuda:0', grad_fn=<NllLossBackward0>),\n",
              " tensor(0.1290, device='cuda:0', grad_fn=<NllLossBackward0>),\n",
              " tensor(0.1370, device='cuda:0', grad_fn=<NllLossBackward0>),\n",
              " tensor(0.2245, device='cuda:0', grad_fn=<NllLossBackward0>),\n",
              " tensor(0.1512, device='cuda:0', grad_fn=<NllLossBackward0>),\n",
              " tensor(0.1705, device='cuda:0', grad_fn=<NllLossBackward0>),\n",
              " tensor(0.1357, device='cuda:0', grad_fn=<NllLossBackward0>),\n",
              " tensor(0.1631, device='cuda:0', grad_fn=<NllLossBackward0>),\n",
              " tensor(0.0993, device='cuda:0', grad_fn=<NllLossBackward0>),\n",
              " tensor(0.0985, device='cuda:0', grad_fn=<NllLossBackward0>),\n",
              " tensor(0.1320, device='cuda:0', grad_fn=<NllLossBackward0>),\n",
              " tensor(0.1582, device='cuda:0', grad_fn=<NllLossBackward0>),\n",
              " tensor(0.0466, device='cuda:0', grad_fn=<NllLossBackward0>),\n",
              " tensor(0.0850, device='cuda:0', grad_fn=<NllLossBackward0>),\n",
              " tensor(0.1161, device='cuda:0', grad_fn=<NllLossBackward0>),\n",
              " tensor(0.0761, device='cuda:0', grad_fn=<NllLossBackward0>),\n",
              " tensor(0.0460, device='cuda:0', grad_fn=<NllLossBackward0>),\n",
              " tensor(0.1538, device='cuda:0', grad_fn=<NllLossBackward0>),\n",
              " tensor(0.1795, device='cuda:0', grad_fn=<NllLossBackward0>),\n",
              " tensor(0.1159, device='cuda:0', grad_fn=<NllLossBackward0>),\n",
              " tensor(0.1094, device='cuda:0', grad_fn=<NllLossBackward0>),\n",
              " tensor(0.0837, device='cuda:0', grad_fn=<NllLossBackward0>),\n",
              " tensor(0.1754, device='cuda:0', grad_fn=<NllLossBackward0>),\n",
              " tensor(0.0429, device='cuda:0', grad_fn=<NllLossBackward0>),\n",
              " tensor(0.0948, device='cuda:0', grad_fn=<NllLossBackward0>),\n",
              " tensor(0.1084, device='cuda:0', grad_fn=<NllLossBackward0>),\n",
              " tensor(0.0624, device='cuda:0', grad_fn=<NllLossBackward0>),\n",
              " tensor(0.2319, device='cuda:0', grad_fn=<NllLossBackward0>),\n",
              " tensor(0.1023, device='cuda:0', grad_fn=<NllLossBackward0>),\n",
              " tensor(0.1807, device='cuda:0', grad_fn=<NllLossBackward0>),\n",
              " tensor(0.0503, device='cuda:0', grad_fn=<NllLossBackward0>),\n",
              " tensor(0.0647, device='cuda:0', grad_fn=<NllLossBackward0>),\n",
              " tensor(0.1174, device='cuda:0', grad_fn=<NllLossBackward0>),\n",
              " tensor(0.1187, device='cuda:0', grad_fn=<NllLossBackward0>),\n",
              " tensor(0.0844, device='cuda:0', grad_fn=<NllLossBackward0>),\n",
              " tensor(0.1537, device='cuda:0', grad_fn=<NllLossBackward0>),\n",
              " tensor(0.1308, device='cuda:0', grad_fn=<NllLossBackward0>),\n",
              " tensor(0.0847, device='cuda:0', grad_fn=<NllLossBackward0>),\n",
              " tensor(0.0870, device='cuda:0', grad_fn=<NllLossBackward0>),\n",
              " tensor(0.0870, device='cuda:0', grad_fn=<NllLossBackward0>),\n",
              " tensor(0.1181, device='cuda:0', grad_fn=<NllLossBackward0>),\n",
              " tensor(0.0972, device='cuda:0', grad_fn=<NllLossBackward0>),\n",
              " tensor(0.1801, device='cuda:0', grad_fn=<NllLossBackward0>),\n",
              " tensor(0.1430, device='cuda:0', grad_fn=<NllLossBackward0>),\n",
              " tensor(0.1636, device='cuda:0', grad_fn=<NllLossBackward0>),\n",
              " tensor(0.0530, device='cuda:0', grad_fn=<NllLossBackward0>),\n",
              " tensor(0.1256, device='cuda:0', grad_fn=<NllLossBackward0>),\n",
              " tensor(0.0438, device='cuda:0', grad_fn=<NllLossBackward0>),\n",
              " tensor(0.0344, device='cuda:0', grad_fn=<NllLossBackward0>),\n",
              " tensor(0.0998, device='cuda:0', grad_fn=<NllLossBackward0>),\n",
              " tensor(0.1313, device='cuda:0', grad_fn=<NllLossBackward0>),\n",
              " tensor(0.0703, device='cuda:0', grad_fn=<NllLossBackward0>),\n",
              " tensor(0.1357, device='cuda:0', grad_fn=<NllLossBackward0>),\n",
              " tensor(0.0968, device='cuda:0', grad_fn=<NllLossBackward0>),\n",
              " tensor(0.1435, device='cuda:0', grad_fn=<NllLossBackward0>),\n",
              " tensor(0.2317, device='cuda:0', grad_fn=<NllLossBackward0>),\n",
              " tensor(0.1301, device='cuda:0', grad_fn=<NllLossBackward0>),\n",
              " tensor(0.1559, device='cuda:0', grad_fn=<NllLossBackward0>),\n",
              " tensor(0.2800, device='cuda:0', grad_fn=<NllLossBackward0>),\n",
              " tensor(0.1823, device='cuda:0', grad_fn=<NllLossBackward0>),\n",
              " tensor(0.1655, device='cuda:0', grad_fn=<NllLossBackward0>),\n",
              " tensor(0.0858, device='cuda:0', grad_fn=<NllLossBackward0>),\n",
              " tensor(0.0622, device='cuda:0', grad_fn=<NllLossBackward0>),\n",
              " tensor(0.0777, device='cuda:0', grad_fn=<NllLossBackward0>),\n",
              " tensor(0.1001, device='cuda:0', grad_fn=<NllLossBackward0>),\n",
              " tensor(0.1189, device='cuda:0', grad_fn=<NllLossBackward0>),\n",
              " tensor(0.0745, device='cuda:0', grad_fn=<NllLossBackward0>),\n",
              " tensor(0.0948, device='cuda:0', grad_fn=<NllLossBackward0>),\n",
              " tensor(0.0583, device='cuda:0', grad_fn=<NllLossBackward0>),\n",
              " tensor(0.1692, device='cuda:0', grad_fn=<NllLossBackward0>),\n",
              " tensor(0.1837, device='cuda:0', grad_fn=<NllLossBackward0>),\n",
              " tensor(0.0282, device='cuda:0', grad_fn=<NllLossBackward0>),\n",
              " tensor(0.1098, device='cuda:0', grad_fn=<NllLossBackward0>),\n",
              " tensor(0.2339, device='cuda:0', grad_fn=<NllLossBackward0>),\n",
              " tensor(0.0833, device='cuda:0', grad_fn=<NllLossBackward0>),\n",
              " tensor(0.2105, device='cuda:0', grad_fn=<NllLossBackward0>),\n",
              " tensor(0.0679, device='cuda:0', grad_fn=<NllLossBackward0>),\n",
              " tensor(0.1218, device='cuda:0', grad_fn=<NllLossBackward0>),\n",
              " tensor(0.1348, device='cuda:0', grad_fn=<NllLossBackward0>),\n",
              " tensor(0.1438, device='cuda:0', grad_fn=<NllLossBackward0>),\n",
              " tensor(0.0706, device='cuda:0', grad_fn=<NllLossBackward0>),\n",
              " tensor(0.1305, device='cuda:0', grad_fn=<NllLossBackward0>),\n",
              " tensor(0.1515, device='cuda:0', grad_fn=<NllLossBackward0>),\n",
              " tensor(0.0897, device='cuda:0', grad_fn=<NllLossBackward0>),\n",
              " tensor(0.1040, device='cuda:0', grad_fn=<NllLossBackward0>),\n",
              " tensor(0.1104, device='cuda:0', grad_fn=<NllLossBackward0>),\n",
              " tensor(0.0963, device='cuda:0', grad_fn=<NllLossBackward0>),\n",
              " tensor(0.2454, device='cuda:0', grad_fn=<NllLossBackward0>),\n",
              " tensor(0.0762, device='cuda:0', grad_fn=<NllLossBackward0>),\n",
              " tensor(0.0539, device='cuda:0', grad_fn=<NllLossBackward0>),\n",
              " tensor(0.2025, device='cuda:0', grad_fn=<NllLossBackward0>),\n",
              " tensor(0.1582, device='cuda:0', grad_fn=<NllLossBackward0>),\n",
              " tensor(0.0565, device='cuda:0', grad_fn=<NllLossBackward0>),\n",
              " tensor(0.1350, device='cuda:0', grad_fn=<NllLossBackward0>),\n",
              " tensor(0.1576, device='cuda:0', grad_fn=<NllLossBackward0>),\n",
              " tensor(0.1578, device='cuda:0', grad_fn=<NllLossBackward0>),\n",
              " tensor(0.1247, device='cuda:0', grad_fn=<NllLossBackward0>),\n",
              " tensor(0.1649, device='cuda:0', grad_fn=<NllLossBackward0>),\n",
              " tensor(0.1159, device='cuda:0', grad_fn=<NllLossBackward0>),\n",
              " tensor(0.1269, device='cuda:0', grad_fn=<NllLossBackward0>),\n",
              " tensor(0.1289, device='cuda:0', grad_fn=<NllLossBackward0>),\n",
              " tensor(0.0401, device='cuda:0', grad_fn=<NllLossBackward0>),\n",
              " tensor(0.0716, device='cuda:0', grad_fn=<NllLossBackward0>),\n",
              " tensor(0.0911, device='cuda:0', grad_fn=<NllLossBackward0>),\n",
              " tensor(0.0752, device='cuda:0', grad_fn=<NllLossBackward0>),\n",
              " tensor(0.1173, device='cuda:0', grad_fn=<NllLossBackward0>),\n",
              " tensor(0.0334, device='cuda:0', grad_fn=<NllLossBackward0>),\n",
              " tensor(0.0678, device='cuda:0', grad_fn=<NllLossBackward0>),\n",
              " tensor(0.0818, device='cuda:0', grad_fn=<NllLossBackward0>),\n",
              " tensor(0.0889, device='cuda:0', grad_fn=<NllLossBackward0>),\n",
              " tensor(0.0875, device='cuda:0', grad_fn=<NllLossBackward0>),\n",
              " tensor(0.1223, device='cuda:0', grad_fn=<NllLossBackward0>),\n",
              " tensor(0.1199, device='cuda:0', grad_fn=<NllLossBackward0>),\n",
              " tensor(0.1256, device='cuda:0', grad_fn=<NllLossBackward0>),\n",
              " tensor(0.0531, device='cuda:0', grad_fn=<NllLossBackward0>),\n",
              " tensor(0.1206, device='cuda:0', grad_fn=<NllLossBackward0>),\n",
              " tensor(0.0380, device='cuda:0', grad_fn=<NllLossBackward0>),\n",
              " tensor(0.0829, device='cuda:0', grad_fn=<NllLossBackward0>),\n",
              " tensor(0.0829, device='cuda:0', grad_fn=<NllLossBackward0>),\n",
              " tensor(0.1147, device='cuda:0', grad_fn=<NllLossBackward0>),\n",
              " tensor(0.0936, device='cuda:0', grad_fn=<NllLossBackward0>),\n",
              " tensor(0.0419, device='cuda:0', grad_fn=<NllLossBackward0>),\n",
              " tensor(0.0515, device='cuda:0', grad_fn=<NllLossBackward0>),\n",
              " tensor(0.0488, device='cuda:0', grad_fn=<NllLossBackward0>),\n",
              " tensor(0.0903, device='cuda:0', grad_fn=<NllLossBackward0>),\n",
              " tensor(0.0649, device='cuda:0', grad_fn=<NllLossBackward0>),\n",
              " tensor(0.0842, device='cuda:0', grad_fn=<NllLossBackward0>),\n",
              " tensor(0.1648, device='cuda:0', grad_fn=<NllLossBackward0>),\n",
              " tensor(0.0389, device='cuda:0', grad_fn=<NllLossBackward0>),\n",
              " tensor(0.0484, device='cuda:0', grad_fn=<NllLossBackward0>),\n",
              " tensor(0.0831, device='cuda:0', grad_fn=<NllLossBackward0>),\n",
              " tensor(0.0629, device='cuda:0', grad_fn=<NllLossBackward0>),\n",
              " tensor(0.0841, device='cuda:0', grad_fn=<NllLossBackward0>),\n",
              " tensor(0.0299, device='cuda:0', grad_fn=<NllLossBackward0>),\n",
              " tensor(0.0967, device='cuda:0', grad_fn=<NllLossBackward0>),\n",
              " tensor(0.0632, device='cuda:0', grad_fn=<NllLossBackward0>),\n",
              " tensor(0.0634, device='cuda:0', grad_fn=<NllLossBackward0>),\n",
              " tensor(0.0294, device='cuda:0', grad_fn=<NllLossBackward0>),\n",
              " tensor(0.0944, device='cuda:0', grad_fn=<NllLossBackward0>),\n",
              " tensor(0.0770, device='cuda:0', grad_fn=<NllLossBackward0>),\n",
              " tensor(0.1178, device='cuda:0', grad_fn=<NllLossBackward0>),\n",
              " tensor(0.0562, device='cuda:0', grad_fn=<NllLossBackward0>),\n",
              " tensor(0.0603, device='cuda:0', grad_fn=<NllLossBackward0>),\n",
              " tensor(0.0282, device='cuda:0', grad_fn=<NllLossBackward0>),\n",
              " tensor(0.0929, device='cuda:0', grad_fn=<NllLossBackward0>),\n",
              " tensor(0.1719, device='cuda:0', grad_fn=<NllLossBackward0>),\n",
              " tensor(0.0474, device='cuda:0', grad_fn=<NllLossBackward0>),\n",
              " tensor(0.0589, device='cuda:0', grad_fn=<NllLossBackward0>),\n",
              " tensor(0.0871, device='cuda:0', grad_fn=<NllLossBackward0>),\n",
              " tensor(0.0288, device='cuda:0', grad_fn=<NllLossBackward0>),\n",
              " tensor(0.0837, device='cuda:0', grad_fn=<NllLossBackward0>),\n",
              " tensor(0.0716, device='cuda:0', grad_fn=<NllLossBackward0>),\n",
              " tensor(0.1234, device='cuda:0', grad_fn=<NllLossBackward0>),\n",
              " tensor(0.0344, device='cuda:0', grad_fn=<NllLossBackward0>),\n",
              " tensor(0.0467, device='cuda:0', grad_fn=<NllLossBackward0>),\n",
              " tensor(0.1660, device='cuda:0', grad_fn=<NllLossBackward0>),\n",
              " tensor(0.0382, device='cuda:0', grad_fn=<NllLossBackward0>),\n",
              " tensor(0.1349, device='cuda:0', grad_fn=<NllLossBackward0>),\n",
              " tensor(0.1036, device='cuda:0', grad_fn=<NllLossBackward0>),\n",
              " tensor(0.0656, device='cuda:0', grad_fn=<NllLossBackward0>),\n",
              " tensor(0.0358, device='cuda:0', grad_fn=<NllLossBackward0>),\n",
              " tensor(0.0888, device='cuda:0', grad_fn=<NllLossBackward0>),\n",
              " tensor(0.0517, device='cuda:0', grad_fn=<NllLossBackward0>),\n",
              " tensor(0.0882, device='cuda:0', grad_fn=<NllLossBackward0>),\n",
              " tensor(0.0283, device='cuda:0', grad_fn=<NllLossBackward0>),\n",
              " tensor(0.0291, device='cuda:0', grad_fn=<NllLossBackward0>),\n",
              " tensor(0.0496, device='cuda:0', grad_fn=<NllLossBackward0>),\n",
              " tensor(0.1001, device='cuda:0', grad_fn=<NllLossBackward0>),\n",
              " tensor(0.0865, device='cuda:0', grad_fn=<NllLossBackward0>),\n",
              " tensor(0.0856, device='cuda:0', grad_fn=<NllLossBackward0>),\n",
              " tensor(0.0625, device='cuda:0', grad_fn=<NllLossBackward0>),\n",
              " tensor(0.0518, device='cuda:0', grad_fn=<NllLossBackward0>),\n",
              " tensor(0.0381, device='cuda:0', grad_fn=<NllLossBackward0>),\n",
              " tensor(0.1002, device='cuda:0', grad_fn=<NllLossBackward0>),\n",
              " tensor(0.0375, device='cuda:0', grad_fn=<NllLossBackward0>),\n",
              " tensor(0.0718, device='cuda:0', grad_fn=<NllLossBackward0>),\n",
              " tensor(0.0690, device='cuda:0', grad_fn=<NllLossBackward0>),\n",
              " tensor(0.1590, device='cuda:0', grad_fn=<NllLossBackward0>),\n",
              " tensor(0.1734, device='cuda:0', grad_fn=<NllLossBackward0>),\n",
              " tensor(0.1146, device='cuda:0', grad_fn=<NllLossBackward0>),\n",
              " tensor(0.1909, device='cuda:0', grad_fn=<NllLossBackward0>),\n",
              " tensor(0.0889, device='cuda:0', grad_fn=<NllLossBackward0>),\n",
              " tensor(0.0375, device='cuda:0', grad_fn=<NllLossBackward0>),\n",
              " tensor(0.0854, device='cuda:0', grad_fn=<NllLossBackward0>),\n",
              " tensor(0.0926, device='cuda:0', grad_fn=<NllLossBackward0>),\n",
              " tensor(0.0431, device='cuda:0', grad_fn=<NllLossBackward0>),\n",
              " tensor(0.0397, device='cuda:0', grad_fn=<NllLossBackward0>),\n",
              " tensor(0.0720, device='cuda:0', grad_fn=<NllLossBackward0>),\n",
              " tensor(0.1026, device='cuda:0', grad_fn=<NllLossBackward0>),\n",
              " tensor(0.0402, device='cuda:0', grad_fn=<NllLossBackward0>),\n",
              " tensor(0.1288, device='cuda:0', grad_fn=<NllLossBackward0>),\n",
              " tensor(0.0730, device='cuda:0', grad_fn=<NllLossBackward0>),\n",
              " tensor(0.1566, device='cuda:0', grad_fn=<NllLossBackward0>),\n",
              " tensor(0.0341, device='cuda:0', grad_fn=<NllLossBackward0>),\n",
              " tensor(0.0601, device='cuda:0', grad_fn=<NllLossBackward0>),\n",
              " tensor(0.0787, device='cuda:0', grad_fn=<NllLossBackward0>),\n",
              " tensor(0.0585, device='cuda:0', grad_fn=<NllLossBackward0>),\n",
              " tensor(0.1347, device='cuda:0', grad_fn=<NllLossBackward0>),\n",
              " tensor(0.1077, device='cuda:0', grad_fn=<NllLossBackward0>),\n",
              " tensor(0.0852, device='cuda:0', grad_fn=<NllLossBackward0>),\n",
              " tensor(0.0974, device='cuda:0', grad_fn=<NllLossBackward0>),\n",
              " tensor(0.1316, device='cuda:0', grad_fn=<NllLossBackward0>),\n",
              " tensor(0.0590, device='cuda:0', grad_fn=<NllLossBackward0>),\n",
              " tensor(0.0767, device='cuda:0', grad_fn=<NllLossBackward0>),\n",
              " tensor(0.0633, device='cuda:0', grad_fn=<NllLossBackward0>),\n",
              " tensor(0.0944, device='cuda:0', grad_fn=<NllLossBackward0>),\n",
              " tensor(0.0805, device='cuda:0', grad_fn=<NllLossBackward0>),\n",
              " tensor(0.0885, device='cuda:0', grad_fn=<NllLossBackward0>),\n",
              " tensor(0.1140, device='cuda:0', grad_fn=<NllLossBackward0>),\n",
              " tensor(0.0228, device='cuda:0', grad_fn=<NllLossBackward0>),\n",
              " tensor(0.0694, device='cuda:0', grad_fn=<NllLossBackward0>),\n",
              " tensor(0.0446, device='cuda:0', grad_fn=<NllLossBackward0>),\n",
              " tensor(0.0185, device='cuda:0', grad_fn=<NllLossBackward0>),\n",
              " tensor(0.1379, device='cuda:0', grad_fn=<NllLossBackward0>),\n",
              " tensor(0.0951, device='cuda:0', grad_fn=<NllLossBackward0>),\n",
              " tensor(0.0705, device='cuda:0', grad_fn=<NllLossBackward0>),\n",
              " tensor(0.1109, device='cuda:0', grad_fn=<NllLossBackward0>),\n",
              " tensor(0.1250, device='cuda:0', grad_fn=<NllLossBackward0>),\n",
              " tensor(0.0631, device='cuda:0', grad_fn=<NllLossBackward0>),\n",
              " tensor(0.0812, device='cuda:0', grad_fn=<NllLossBackward0>),\n",
              " tensor(0.1389, device='cuda:0', grad_fn=<NllLossBackward0>),\n",
              " tensor(0.1217, device='cuda:0', grad_fn=<NllLossBackward0>),\n",
              " tensor(0.0955, device='cuda:0', grad_fn=<NllLossBackward0>),\n",
              " tensor(0.0934, device='cuda:0', grad_fn=<NllLossBackward0>),\n",
              " tensor(0.0744, device='cuda:0', grad_fn=<NllLossBackward0>),\n",
              " tensor(0.1381, device='cuda:0', grad_fn=<NllLossBackward0>),\n",
              " tensor(0.0472, device='cuda:0', grad_fn=<NllLossBackward0>),\n",
              " tensor(0.0157, device='cuda:0', grad_fn=<NllLossBackward0>),\n",
              " tensor(0.0841, device='cuda:0', grad_fn=<NllLossBackward0>),\n",
              " tensor(0.0254, device='cuda:0', grad_fn=<NllLossBackward0>),\n",
              " tensor(0.0423, device='cuda:0', grad_fn=<NllLossBackward0>),\n",
              " tensor(0.0404, device='cuda:0', grad_fn=<NllLossBackward0>),\n",
              " tensor(0.0422, device='cuda:0', grad_fn=<NllLossBackward0>),\n",
              " tensor(0.0767, device='cuda:0', grad_fn=<NllLossBackward0>),\n",
              " tensor(0.1115, device='cuda:0', grad_fn=<NllLossBackward0>),\n",
              " tensor(0.0361, device='cuda:0', grad_fn=<NllLossBackward0>),\n",
              " tensor(0.0404, device='cuda:0', grad_fn=<NllLossBackward0>),\n",
              " tensor(0.0873, device='cuda:0', grad_fn=<NllLossBackward0>),\n",
              " tensor(0.0910, device='cuda:0', grad_fn=<NllLossBackward0>),\n",
              " tensor(0.0458, device='cuda:0', grad_fn=<NllLossBackward0>),\n",
              " tensor(0.0537, device='cuda:0', grad_fn=<NllLossBackward0>),\n",
              " tensor(0.1235, device='cuda:0', grad_fn=<NllLossBackward0>),\n",
              " tensor(0.1348, device='cuda:0', grad_fn=<NllLossBackward0>),\n",
              " tensor(0.0415, device='cuda:0', grad_fn=<NllLossBackward0>),\n",
              " tensor(0.0133, device='cuda:0', grad_fn=<NllLossBackward0>),\n",
              " tensor(0.0433, device='cuda:0', grad_fn=<NllLossBackward0>),\n",
              " tensor(0.0816, device='cuda:0', grad_fn=<NllLossBackward0>),\n",
              " tensor(0.0293, device='cuda:0', grad_fn=<NllLossBackward0>),\n",
              " tensor(0.1045, device='cuda:0', grad_fn=<NllLossBackward0>),\n",
              " tensor(0.1092, device='cuda:0', grad_fn=<NllLossBackward0>),\n",
              " tensor(0.0213, device='cuda:0', grad_fn=<NllLossBackward0>),\n",
              " tensor(0.0428, device='cuda:0', grad_fn=<NllLossBackward0>),\n",
              " tensor(0.0181, device='cuda:0', grad_fn=<NllLossBackward0>),\n",
              " tensor(0.1106, device='cuda:0', grad_fn=<NllLossBackward0>),\n",
              " tensor(0.0262, device='cuda:0', grad_fn=<NllLossBackward0>),\n",
              " tensor(0.0808, device='cuda:0', grad_fn=<NllLossBackward0>),\n",
              " tensor(0.0398, device='cuda:0', grad_fn=<NllLossBackward0>),\n",
              " tensor(0.0609, device='cuda:0', grad_fn=<NllLossBackward0>),\n",
              " tensor(0.0246, device='cuda:0', grad_fn=<NllLossBackward0>),\n",
              " tensor(0.0320, device='cuda:0', grad_fn=<NllLossBackward0>),\n",
              " tensor(0.0348, device='cuda:0', grad_fn=<NllLossBackward0>),\n",
              " tensor(0.0079, device='cuda:0', grad_fn=<NllLossBackward0>),\n",
              " tensor(0.0298, device='cuda:0', grad_fn=<NllLossBackward0>),\n",
              " tensor(0.0154, device='cuda:0', grad_fn=<NllLossBackward0>),\n",
              " tensor(0.0973, device='cuda:0', grad_fn=<NllLossBackward0>),\n",
              " tensor(0.0091, device='cuda:0', grad_fn=<NllLossBackward0>),\n",
              " tensor(0.2125, device='cuda:0', grad_fn=<NllLossBackward0>),\n",
              " tensor(0.0242, device='cuda:0', grad_fn=<NllLossBackward0>),\n",
              " tensor(0.0604, device='cuda:0', grad_fn=<NllLossBackward0>),\n",
              " tensor(0.0330, device='cuda:0', grad_fn=<NllLossBackward0>),\n",
              " tensor(0.0399, device='cuda:0', grad_fn=<NllLossBackward0>),\n",
              " tensor(0.0451, device='cuda:0', grad_fn=<NllLossBackward0>),\n",
              " tensor(0.0403, device='cuda:0', grad_fn=<NllLossBackward0>),\n",
              " tensor(0.0945, device='cuda:0', grad_fn=<NllLossBackward0>),\n",
              " tensor(0.0723, device='cuda:0', grad_fn=<NllLossBackward0>),\n",
              " tensor(0.0447, device='cuda:0', grad_fn=<NllLossBackward0>),\n",
              " tensor(0.0459, device='cuda:0', grad_fn=<NllLossBackward0>),\n",
              " tensor(0.1558, device='cuda:0', grad_fn=<NllLossBackward0>),\n",
              " tensor(0.1245, device='cuda:0', grad_fn=<NllLossBackward0>),\n",
              " tensor(0.0906, device='cuda:0', grad_fn=<NllLossBackward0>),\n",
              " tensor(0.0619, device='cuda:0', grad_fn=<NllLossBackward0>),\n",
              " tensor(0.0288, device='cuda:0', grad_fn=<NllLossBackward0>),\n",
              " tensor(0.0207, device='cuda:0', grad_fn=<NllLossBackward0>),\n",
              " tensor(0.0357, device='cuda:0', grad_fn=<NllLossBackward0>),\n",
              " tensor(0.0174, device='cuda:0', grad_fn=<NllLossBackward0>),\n",
              " tensor(0.0413, device='cuda:0', grad_fn=<NllLossBackward0>),\n",
              " tensor(0.0620, device='cuda:0', grad_fn=<NllLossBackward0>),\n",
              " tensor(0.1457, device='cuda:0', grad_fn=<NllLossBackward0>),\n",
              " tensor(0.0219, device='cuda:0', grad_fn=<NllLossBackward0>),\n",
              " tensor(0.0643, device='cuda:0', grad_fn=<NllLossBackward0>),\n",
              " tensor(0.1313, device='cuda:0', grad_fn=<NllLossBackward0>),\n",
              " tensor(0.0363, device='cuda:0', grad_fn=<NllLossBackward0>),\n",
              " tensor(0.0568, device='cuda:0', grad_fn=<NllLossBackward0>),\n",
              " tensor(0.0829, device='cuda:0', grad_fn=<NllLossBackward0>),\n",
              " tensor(0.0446, device='cuda:0', grad_fn=<NllLossBackward0>),\n",
              " tensor(0.0610, device='cuda:0', grad_fn=<NllLossBackward0>),\n",
              " tensor(0.0397, device='cuda:0', grad_fn=<NllLossBackward0>),\n",
              " tensor(0.0474, device='cuda:0', grad_fn=<NllLossBackward0>),\n",
              " tensor(0.0521, device='cuda:0', grad_fn=<NllLossBackward0>),\n",
              " tensor(0.0944, device='cuda:0', grad_fn=<NllLossBackward0>),\n",
              " tensor(0.0222, device='cuda:0', grad_fn=<NllLossBackward0>),\n",
              " tensor(0.0388, device='cuda:0', grad_fn=<NllLossBackward0>),\n",
              " tensor(0.0525, device='cuda:0', grad_fn=<NllLossBackward0>),\n",
              " tensor(0.0592, device='cuda:0', grad_fn=<NllLossBackward0>),\n",
              " tensor(0.0404, device='cuda:0', grad_fn=<NllLossBackward0>),\n",
              " tensor(0.0785, device='cuda:0', grad_fn=<NllLossBackward0>),\n",
              " tensor(0.0989, device='cuda:0', grad_fn=<NllLossBackward0>),\n",
              " tensor(0.0177, device='cuda:0', grad_fn=<NllLossBackward0>),\n",
              " tensor(0.0776, device='cuda:0', grad_fn=<NllLossBackward0>),\n",
              " tensor(0.1478, device='cuda:0', grad_fn=<NllLossBackward0>),\n",
              " tensor(0.0845, device='cuda:0', grad_fn=<NllLossBackward0>),\n",
              " tensor(0.0209, device='cuda:0', grad_fn=<NllLossBackward0>),\n",
              " tensor(0.1191, device='cuda:0', grad_fn=<NllLossBackward0>),\n",
              " tensor(0.0948, device='cuda:0', grad_fn=<NllLossBackward0>),\n",
              " tensor(0.0487, device='cuda:0', grad_fn=<NllLossBackward0>),\n",
              " tensor(0.0508, device='cuda:0', grad_fn=<NllLossBackward0>),\n",
              " tensor(0.0517, device='cuda:0', grad_fn=<NllLossBackward0>),\n",
              " tensor(0.0556, device='cuda:0', grad_fn=<NllLossBackward0>),\n",
              " tensor(0.0563, device='cuda:0', grad_fn=<NllLossBackward0>),\n",
              " tensor(0.0596, device='cuda:0', grad_fn=<NllLossBackward0>),\n",
              " tensor(0.0844, device='cuda:0', grad_fn=<NllLossBackward0>),\n",
              " tensor(0.0939, device='cuda:0', grad_fn=<NllLossBackward0>),\n",
              " tensor(0.0438, device='cuda:0', grad_fn=<NllLossBackward0>),\n",
              " tensor(0.1021, device='cuda:0', grad_fn=<NllLossBackward0>),\n",
              " tensor(0.0808, device='cuda:0', grad_fn=<NllLossBackward0>),\n",
              " tensor(0.1678, device='cuda:0', grad_fn=<NllLossBackward0>),\n",
              " tensor(0.1042, device='cuda:0', grad_fn=<NllLossBackward0>),\n",
              " tensor(0.0700, device='cuda:0', grad_fn=<NllLossBackward0>),\n",
              " tensor(0.0987, device='cuda:0', grad_fn=<NllLossBackward0>),\n",
              " tensor(0.0706, device='cuda:0', grad_fn=<NllLossBackward0>),\n",
              " tensor(0.0338, device='cuda:0', grad_fn=<NllLossBackward0>),\n",
              " tensor(0.0753, device='cuda:0', grad_fn=<NllLossBackward0>),\n",
              " tensor(0.0509, device='cuda:0', grad_fn=<NllLossBackward0>),\n",
              " tensor(0.0340, device='cuda:0', grad_fn=<NllLossBackward0>),\n",
              " tensor(0.1243, device='cuda:0', grad_fn=<NllLossBackward0>),\n",
              " tensor(0.1170, device='cuda:0', grad_fn=<NllLossBackward0>),\n",
              " tensor(0.0616, device='cuda:0', grad_fn=<NllLossBackward0>),\n",
              " tensor(0.0788, device='cuda:0', grad_fn=<NllLossBackward0>),\n",
              " tensor(0.0573, device='cuda:0', grad_fn=<NllLossBackward0>),\n",
              " tensor(0.0258, device='cuda:0', grad_fn=<NllLossBackward0>),\n",
              " tensor(0.0355, device='cuda:0', grad_fn=<NllLossBackward0>),\n",
              " tensor(0.0614, device='cuda:0', grad_fn=<NllLossBackward0>),\n",
              " tensor(0.0422, device='cuda:0', grad_fn=<NllLossBackward0>),\n",
              " tensor(0.0886, device='cuda:0', grad_fn=<NllLossBackward0>),\n",
              " tensor(0.0473, device='cuda:0', grad_fn=<NllLossBackward0>),\n",
              " tensor(0.0600, device='cuda:0', grad_fn=<NllLossBackward0>),\n",
              " tensor(0.0755, device='cuda:0', grad_fn=<NllLossBackward0>),\n",
              " tensor(0.0333, device='cuda:0', grad_fn=<NllLossBackward0>),\n",
              " tensor(0.0484, device='cuda:0', grad_fn=<NllLossBackward0>),\n",
              " tensor(0.0512, device='cuda:0', grad_fn=<NllLossBackward0>),\n",
              " tensor(0.0339, device='cuda:0', grad_fn=<NllLossBackward0>),\n",
              " tensor(0.0313, device='cuda:0', grad_fn=<NllLossBackward0>),\n",
              " tensor(0.1047, device='cuda:0', grad_fn=<NllLossBackward0>),\n",
              " tensor(0.0385, device='cuda:0', grad_fn=<NllLossBackward0>),\n",
              " tensor(0.0625, device='cuda:0', grad_fn=<NllLossBackward0>),\n",
              " tensor(0.0873, device='cuda:0', grad_fn=<NllLossBackward0>),\n",
              " tensor(0.0715, device='cuda:0', grad_fn=<NllLossBackward0>),\n",
              " tensor(0.0719, device='cuda:0', grad_fn=<NllLossBackward0>),\n",
              " tensor(0.0385, device='cuda:0', grad_fn=<NllLossBackward0>),\n",
              " tensor(0.1181, device='cuda:0', grad_fn=<NllLossBackward0>),\n",
              " tensor(0.0725, device='cuda:0', grad_fn=<NllLossBackward0>),\n",
              " tensor(0.1157, device='cuda:0', grad_fn=<NllLossBackward0>),\n",
              " tensor(0.0478, device='cuda:0', grad_fn=<NllLossBackward0>),\n",
              " tensor(0.1323, device='cuda:0', grad_fn=<NllLossBackward0>),\n",
              " tensor(0.0829, device='cuda:0', grad_fn=<NllLossBackward0>),\n",
              " tensor(0.0377, device='cuda:0', grad_fn=<NllLossBackward0>),\n",
              " tensor(0.0497, device='cuda:0', grad_fn=<NllLossBackward0>),\n",
              " tensor(0.0553, device='cuda:0', grad_fn=<NllLossBackward0>),\n",
              " tensor(0.1117, device='cuda:0', grad_fn=<NllLossBackward0>),\n",
              " tensor(0.1022, device='cuda:0', grad_fn=<NllLossBackward0>),\n",
              " tensor(0.0554, device='cuda:0', grad_fn=<NllLossBackward0>),\n",
              " tensor(0.1125, device='cuda:0', grad_fn=<NllLossBackward0>),\n",
              " tensor(0.0589, device='cuda:0', grad_fn=<NllLossBackward0>),\n",
              " tensor(0.0429, device='cuda:0', grad_fn=<NllLossBackward0>),\n",
              " tensor(0.0849, device='cuda:0', grad_fn=<NllLossBackward0>),\n",
              " tensor(0.0568, device='cuda:0', grad_fn=<NllLossBackward0>),\n",
              " tensor(0.0098, device='cuda:0', grad_fn=<NllLossBackward0>),\n",
              " tensor(0.0186, device='cuda:0', grad_fn=<NllLossBackward0>),\n",
              " tensor(0.0862, device='cuda:0', grad_fn=<NllLossBackward0>),\n",
              " tensor(0.0106, device='cuda:0', grad_fn=<NllLossBackward0>),\n",
              " tensor(0.0329, device='cuda:0', grad_fn=<NllLossBackward0>),\n",
              " tensor(0.0629, device='cuda:0', grad_fn=<NllLossBackward0>),\n",
              " tensor(0.0595, device='cuda:0', grad_fn=<NllLossBackward0>),\n",
              " tensor(0.0689, device='cuda:0', grad_fn=<NllLossBackward0>),\n",
              " tensor(0.0683, device='cuda:0', grad_fn=<NllLossBackward0>),\n",
              " tensor(0.0358, device='cuda:0', grad_fn=<NllLossBackward0>),\n",
              " tensor(0.0656, device='cuda:0', grad_fn=<NllLossBackward0>),\n",
              " tensor(0.1017, device='cuda:0', grad_fn=<NllLossBackward0>),\n",
              " tensor(0.0216, device='cuda:0', grad_fn=<NllLossBackward0>),\n",
              " tensor(0.0411, device='cuda:0', grad_fn=<NllLossBackward0>),\n",
              " tensor(0.0588, device='cuda:0', grad_fn=<NllLossBackward0>),\n",
              " tensor(0.0322, device='cuda:0', grad_fn=<NllLossBackward0>),\n",
              " tensor(0.0326, device='cuda:0', grad_fn=<NllLossBackward0>),\n",
              " tensor(0.0274, device='cuda:0', grad_fn=<NllLossBackward0>),\n",
              " tensor(0.0529, device='cuda:0', grad_fn=<NllLossBackward0>),\n",
              " tensor(0.0557, device='cuda:0', grad_fn=<NllLossBackward0>),\n",
              " tensor(0.1802, device='cuda:0', grad_fn=<NllLossBackward0>),\n",
              " tensor(0.0377, device='cuda:0', grad_fn=<NllLossBackward0>),\n",
              " tensor(0.0677, device='cuda:0', grad_fn=<NllLossBackward0>),\n",
              " tensor(0.0441, device='cuda:0', grad_fn=<NllLossBackward0>),\n",
              " tensor(0.0782, device='cuda:0', grad_fn=<NllLossBackward0>),\n",
              " tensor(0.0524, device='cuda:0', grad_fn=<NllLossBackward0>),\n",
              " tensor(0.0364, device='cuda:0', grad_fn=<NllLossBackward0>),\n",
              " tensor(0.0318, device='cuda:0', grad_fn=<NllLossBackward0>),\n",
              " tensor(0.0424, device='cuda:0', grad_fn=<NllLossBackward0>),\n",
              " tensor(0.0341, device='cuda:0', grad_fn=<NllLossBackward0>),\n",
              " tensor(0.0947, device='cuda:0', grad_fn=<NllLossBackward0>),\n",
              " tensor(0.0657, device='cuda:0', grad_fn=<NllLossBackward0>),\n",
              " tensor(0.0423, device='cuda:0', grad_fn=<NllLossBackward0>),\n",
              " tensor(0.0468, device='cuda:0', grad_fn=<NllLossBackward0>),\n",
              " tensor(0.0975, device='cuda:0', grad_fn=<NllLossBackward0>),\n",
              " tensor(0.0656, device='cuda:0', grad_fn=<NllLossBackward0>),\n",
              " tensor(0.1088, device='cuda:0', grad_fn=<NllLossBackward0>),\n",
              " tensor(0.0257, device='cuda:0', grad_fn=<NllLossBackward0>),\n",
              " tensor(0.0244, device='cuda:0', grad_fn=<NllLossBackward0>),\n",
              " tensor(0.0903, device='cuda:0', grad_fn=<NllLossBackward0>),\n",
              " tensor(0.0228, device='cuda:0', grad_fn=<NllLossBackward0>),\n",
              " tensor(0.0825, device='cuda:0', grad_fn=<NllLossBackward0>),\n",
              " tensor(0.0710, device='cuda:0', grad_fn=<NllLossBackward0>),\n",
              " tensor(0.0314, device='cuda:0', grad_fn=<NllLossBackward0>),\n",
              " tensor(0.0163, device='cuda:0', grad_fn=<NllLossBackward0>),\n",
              " tensor(0.0600, device='cuda:0', grad_fn=<NllLossBackward0>),\n",
              " tensor(0.0529, device='cuda:0', grad_fn=<NllLossBackward0>),\n",
              " tensor(0.0468, device='cuda:0', grad_fn=<NllLossBackward0>),\n",
              " tensor(0.0537, device='cuda:0', grad_fn=<NllLossBackward0>),\n",
              " tensor(0.0733, device='cuda:0', grad_fn=<NllLossBackward0>),\n",
              " tensor(0.0989, device='cuda:0', grad_fn=<NllLossBackward0>),\n",
              " tensor(0.0606, device='cuda:0', grad_fn=<NllLossBackward0>),\n",
              " tensor(0.0230, device='cuda:0', grad_fn=<NllLossBackward0>),\n",
              " tensor(0.0315, device='cuda:0', grad_fn=<NllLossBackward0>),\n",
              " tensor(0.0864, device='cuda:0', grad_fn=<NllLossBackward0>),\n",
              " tensor(0.0780, device='cuda:0', grad_fn=<NllLossBackward0>),\n",
              " tensor(0.0470, device='cuda:0', grad_fn=<NllLossBackward0>),\n",
              " tensor(0.1021, device='cuda:0', grad_fn=<NllLossBackward0>),\n",
              " tensor(0.0693, device='cuda:0', grad_fn=<NllLossBackward0>),\n",
              " tensor(0.0385, device='cuda:0', grad_fn=<NllLossBackward0>),\n",
              " tensor(0.0402, device='cuda:0', grad_fn=<NllLossBackward0>),\n",
              " tensor(0.0482, device='cuda:0', grad_fn=<NllLossBackward0>),\n",
              " tensor(0.0452, device='cuda:0', grad_fn=<NllLossBackward0>),\n",
              " tensor(0.1199, device='cuda:0', grad_fn=<NllLossBackward0>),\n",
              " tensor(0.0634, device='cuda:0', grad_fn=<NllLossBackward0>),\n",
              " tensor(0.0410, device='cuda:0', grad_fn=<NllLossBackward0>),\n",
              " tensor(0.0272, device='cuda:0', grad_fn=<NllLossBackward0>),\n",
              " tensor(0.0276, device='cuda:0', grad_fn=<NllLossBackward0>),\n",
              " tensor(0.0314, device='cuda:0', grad_fn=<NllLossBackward0>),\n",
              " tensor(0.1049, device='cuda:0', grad_fn=<NllLossBackward0>),\n",
              " tensor(0.0201, device='cuda:0', grad_fn=<NllLossBackward0>),\n",
              " tensor(0.0724, device='cuda:0', grad_fn=<NllLossBackward0>),\n",
              " tensor(0.0202, device='cuda:0', grad_fn=<NllLossBackward0>),\n",
              " tensor(0.0476, device='cuda:0', grad_fn=<NllLossBackward0>),\n",
              " tensor(0.0909, device='cuda:0', grad_fn=<NllLossBackward0>),\n",
              " tensor(0.0552, device='cuda:0', grad_fn=<NllLossBackward0>),\n",
              " tensor(0.0561, device='cuda:0', grad_fn=<NllLossBackward0>),\n",
              " tensor(0.0373, device='cuda:0', grad_fn=<NllLossBackward0>),\n",
              " tensor(0.0540, device='cuda:0', grad_fn=<NllLossBackward0>),\n",
              " tensor(0.0130, device='cuda:0', grad_fn=<NllLossBackward0>),\n",
              " tensor(0.0542, device='cuda:0', grad_fn=<NllLossBackward0>),\n",
              " tensor(0.0232, device='cuda:0', grad_fn=<NllLossBackward0>),\n",
              " tensor(0.0751, device='cuda:0', grad_fn=<NllLossBackward0>),\n",
              " tensor(0.0416, device='cuda:0', grad_fn=<NllLossBackward0>),\n",
              " tensor(0.0196, device='cuda:0', grad_fn=<NllLossBackward0>),\n",
              " tensor(0.0372, device='cuda:0', grad_fn=<NllLossBackward0>),\n",
              " tensor(0.0554, device='cuda:0', grad_fn=<NllLossBackward0>),\n",
              " tensor(0.0137, device='cuda:0', grad_fn=<NllLossBackward0>),\n",
              " tensor(0.1094, device='cuda:0', grad_fn=<NllLossBackward0>),\n",
              " tensor(0.0602, device='cuda:0', grad_fn=<NllLossBackward0>),\n",
              " tensor(0.0537, device='cuda:0', grad_fn=<NllLossBackward0>),\n",
              " tensor(0.0376, device='cuda:0', grad_fn=<NllLossBackward0>),\n",
              " tensor(0.0202, device='cuda:0', grad_fn=<NllLossBackward0>),\n",
              " tensor(0.0327, device='cuda:0', grad_fn=<NllLossBackward0>),\n",
              " tensor(0.1091, device='cuda:0', grad_fn=<NllLossBackward0>),\n",
              " tensor(0.0306, device='cuda:0', grad_fn=<NllLossBackward0>),\n",
              " tensor(0.0106, device='cuda:0', grad_fn=<NllLossBackward0>),\n",
              " tensor(0.0206, device='cuda:0', grad_fn=<NllLossBackward0>),\n",
              " tensor(0.0995, device='cuda:0', grad_fn=<NllLossBackward0>),\n",
              " tensor(0.0527, device='cuda:0', grad_fn=<NllLossBackward0>),\n",
              " tensor(0.0289, device='cuda:0', grad_fn=<NllLossBackward0>),\n",
              " tensor(0.0689, device='cuda:0', grad_fn=<NllLossBackward0>),\n",
              " tensor(0.0119, device='cuda:0', grad_fn=<NllLossBackward0>),\n",
              " tensor(0.0692, device='cuda:0', grad_fn=<NllLossBackward0>),\n",
              " tensor(0.0792, device='cuda:0', grad_fn=<NllLossBackward0>),\n",
              " tensor(0.1343, device='cuda:0', grad_fn=<NllLossBackward0>),\n",
              " tensor(0.0083, device='cuda:0', grad_fn=<NllLossBackward0>),\n",
              " tensor(0.0326, device='cuda:0', grad_fn=<NllLossBackward0>),\n",
              " tensor(0.0981, device='cuda:0', grad_fn=<NllLossBackward0>),\n",
              " tensor(0.0456, device='cuda:0', grad_fn=<NllLossBackward0>),\n",
              " tensor(0.0496, device='cuda:0', grad_fn=<NllLossBackward0>),\n",
              " tensor(0.0220, device='cuda:0', grad_fn=<NllLossBackward0>),\n",
              " tensor(0.0073, device='cuda:0', grad_fn=<NllLossBackward0>),\n",
              " tensor(0.0826, device='cuda:0', grad_fn=<NllLossBackward0>),\n",
              " tensor(0.0700, device='cuda:0', grad_fn=<NllLossBackward0>),\n",
              " tensor(0.0785, device='cuda:0', grad_fn=<NllLossBackward0>),\n",
              " tensor(0.0590, device='cuda:0', grad_fn=<NllLossBackward0>),\n",
              " tensor(0.0119, device='cuda:0', grad_fn=<NllLossBackward0>),\n",
              " tensor(0.1615, device='cuda:0', grad_fn=<NllLossBackward0>),\n",
              " tensor(0.0431, device='cuda:0', grad_fn=<NllLossBackward0>),\n",
              " tensor(0.0700, device='cuda:0', grad_fn=<NllLossBackward0>),\n",
              " tensor(0.0456, device='cuda:0', grad_fn=<NllLossBackward0>),\n",
              " tensor(0.0826, device='cuda:0', grad_fn=<NllLossBackward0>),\n",
              " tensor(0.0119, device='cuda:0', grad_fn=<NllLossBackward0>),\n",
              " tensor(0.0866, device='cuda:0', grad_fn=<NllLossBackward0>),\n",
              " tensor(0.0712, device='cuda:0', grad_fn=<NllLossBackward0>),\n",
              " tensor(0.0482, device='cuda:0', grad_fn=<NllLossBackward0>),\n",
              " tensor(0.0757, device='cuda:0', grad_fn=<NllLossBackward0>),\n",
              " tensor(0.0327, device='cuda:0', grad_fn=<NllLossBackward0>),\n",
              " tensor(0.0406, device='cuda:0', grad_fn=<NllLossBackward0>),\n",
              " tensor(0.0928, device='cuda:0', grad_fn=<NllLossBackward0>),\n",
              " tensor(0.0368, device='cuda:0', grad_fn=<NllLossBackward0>),\n",
              " tensor(0.0766, device='cuda:0', grad_fn=<NllLossBackward0>),\n",
              " tensor(0.0271, device='cuda:0', grad_fn=<NllLossBackward0>),\n",
              " tensor(0.0429, device='cuda:0', grad_fn=<NllLossBackward0>),\n",
              " tensor(0.0799, device='cuda:0', grad_fn=<NllLossBackward0>),\n",
              " tensor(0.0688, device='cuda:0', grad_fn=<NllLossBackward0>),\n",
              " tensor(0.0477, device='cuda:0', grad_fn=<NllLossBackward0>),\n",
              " tensor(0.0789, device='cuda:0', grad_fn=<NllLossBackward0>),\n",
              " tensor(0.0156, device='cuda:0', grad_fn=<NllLossBackward0>),\n",
              " tensor(0.0549, device='cuda:0', grad_fn=<NllLossBackward0>),\n",
              " tensor(0.0584, device='cuda:0', grad_fn=<NllLossBackward0>),\n",
              " tensor(0.0349, device='cuda:0', grad_fn=<NllLossBackward0>),\n",
              " tensor(0.0477, device='cuda:0', grad_fn=<NllLossBackward0>),\n",
              " tensor(0.0650, device='cuda:0', grad_fn=<NllLossBackward0>),\n",
              " tensor(0.0497, device='cuda:0', grad_fn=<NllLossBackward0>),\n",
              " tensor(0.1088, device='cuda:0', grad_fn=<NllLossBackward0>),\n",
              " tensor(0.0597, device='cuda:0', grad_fn=<NllLossBackward0>),\n",
              " tensor(0.0495, device='cuda:0', grad_fn=<NllLossBackward0>),\n",
              " tensor(0.0728, device='cuda:0', grad_fn=<NllLossBackward0>),\n",
              " tensor(0.0467, device='cuda:0', grad_fn=<NllLossBackward0>),\n",
              " tensor(0.0771, device='cuda:0', grad_fn=<NllLossBackward0>),\n",
              " tensor(0.0378, device='cuda:0', grad_fn=<NllLossBackward0>),\n",
              " tensor(0.0419, device='cuda:0', grad_fn=<NllLossBackward0>),\n",
              " tensor(0.0404, device='cuda:0', grad_fn=<NllLossBackward0>),\n",
              " tensor(0.0692, device='cuda:0', grad_fn=<NllLossBackward0>),\n",
              " tensor(0.0529, device='cuda:0', grad_fn=<NllLossBackward0>),\n",
              " tensor(0.0245, device='cuda:0', grad_fn=<NllLossBackward0>),\n",
              " tensor(0.0158, device='cuda:0', grad_fn=<NllLossBackward0>),\n",
              " tensor(0.0130, device='cuda:0', grad_fn=<NllLossBackward0>),\n",
              " tensor(0.0273, device='cuda:0', grad_fn=<NllLossBackward0>),\n",
              " tensor(0.0871, device='cuda:0', grad_fn=<NllLossBackward0>),\n",
              " tensor(0.0166, device='cuda:0', grad_fn=<NllLossBackward0>),\n",
              " tensor(0.0201, device='cuda:0', grad_fn=<NllLossBackward0>),\n",
              " tensor(0.0362, device='cuda:0', grad_fn=<NllLossBackward0>),\n",
              " tensor(0.0163, device='cuda:0', grad_fn=<NllLossBackward0>),\n",
              " tensor(0.0636, device='cuda:0', grad_fn=<NllLossBackward0>),\n",
              " tensor(0.0423, device='cuda:0', grad_fn=<NllLossBackward0>),\n",
              " tensor(0.0139, device='cuda:0', grad_fn=<NllLossBackward0>),\n",
              " tensor(0.0428, device='cuda:0', grad_fn=<NllLossBackward0>),\n",
              " tensor(0.0872, device='cuda:0', grad_fn=<NllLossBackward0>),\n",
              " tensor(0.0522, device='cuda:0', grad_fn=<NllLossBackward0>),\n",
              " tensor(0.0105, device='cuda:0', grad_fn=<NllLossBackward0>),\n",
              " tensor(0.0791, device='cuda:0', grad_fn=<NllLossBackward0>),\n",
              " tensor(0.0794, device='cuda:0', grad_fn=<NllLossBackward0>),\n",
              " tensor(0.0866, device='cuda:0', grad_fn=<NllLossBackward0>),\n",
              " tensor(0.0972, device='cuda:0', grad_fn=<NllLossBackward0>),\n",
              " tensor(0.0732, device='cuda:0', grad_fn=<NllLossBackward0>),\n",
              " tensor(0.0817, device='cuda:0', grad_fn=<NllLossBackward0>),\n",
              " tensor(0.0332, device='cuda:0', grad_fn=<NllLossBackward0>),\n",
              " tensor(0.0745, device='cuda:0', grad_fn=<NllLossBackward0>),\n",
              " tensor(0.0616, device='cuda:0', grad_fn=<NllLossBackward0>),\n",
              " tensor(0.0586, device='cuda:0', grad_fn=<NllLossBackward0>),\n",
              " tensor(0.0405, device='cuda:0', grad_fn=<NllLossBackward0>),\n",
              " tensor(0.0952, device='cuda:0', grad_fn=<NllLossBackward0>),\n",
              " tensor(0.0666, device='cuda:0', grad_fn=<NllLossBackward0>),\n",
              " tensor(0.0149, device='cuda:0', grad_fn=<NllLossBackward0>),\n",
              " tensor(0.0440, device='cuda:0', grad_fn=<NllLossBackward0>),\n",
              " tensor(0.0541, device='cuda:0', grad_fn=<NllLossBackward0>),\n",
              " tensor(0.0926, device='cuda:0', grad_fn=<NllLossBackward0>),\n",
              " tensor(0.0582, device='cuda:0', grad_fn=<NllLossBackward0>),\n",
              " tensor(0.1037, device='cuda:0', grad_fn=<NllLossBackward0>),\n",
              " tensor(0.0260, device='cuda:0', grad_fn=<NllLossBackward0>),\n",
              " tensor(0.0452, device='cuda:0', grad_fn=<NllLossBackward0>),\n",
              " tensor(0.0419, device='cuda:0', grad_fn=<NllLossBackward0>),\n",
              " tensor(0.0328, device='cuda:0', grad_fn=<NllLossBackward0>),\n",
              " tensor(0.0693, device='cuda:0', grad_fn=<NllLossBackward0>),\n",
              " tensor(0.0132, device='cuda:0', grad_fn=<NllLossBackward0>),\n",
              " tensor(0.0522, device='cuda:0', grad_fn=<NllLossBackward0>),\n",
              " tensor(0.0339, device='cuda:0', grad_fn=<NllLossBackward0>),\n",
              " tensor(0.1225, device='cuda:0', grad_fn=<NllLossBackward0>),\n",
              " tensor(0.0099, device='cuda:0', grad_fn=<NllLossBackward0>),\n",
              " tensor(0.0345, device='cuda:0', grad_fn=<NllLossBackward0>),\n",
              " tensor(0.0846, device='cuda:0', grad_fn=<NllLossBackward0>),\n",
              " tensor(0.0095, device='cuda:0', grad_fn=<NllLossBackward0>),\n",
              " tensor(0.0514, device='cuda:0', grad_fn=<NllLossBackward0>),\n",
              " tensor(0.0524, device='cuda:0', grad_fn=<NllLossBackward0>),\n",
              " tensor(0.0195, device='cuda:0', grad_fn=<NllLossBackward0>),\n",
              " tensor(0.0475, device='cuda:0', grad_fn=<NllLossBackward0>),\n",
              " tensor(0.0407, device='cuda:0', grad_fn=<NllLossBackward0>),\n",
              " tensor(0.1149, device='cuda:0', grad_fn=<NllLossBackward0>),\n",
              " tensor(0.1249, device='cuda:0', grad_fn=<NllLossBackward0>),\n",
              " tensor(0.0863, device='cuda:0', grad_fn=<NllLossBackward0>),\n",
              " tensor(0.0131, device='cuda:0', grad_fn=<NllLossBackward0>),\n",
              " tensor(0.0461, device='cuda:0', grad_fn=<NllLossBackward0>),\n",
              " tensor(0.0655, device='cuda:0', grad_fn=<NllLossBackward0>),\n",
              " tensor(0.1433, device='cuda:0', grad_fn=<NllLossBackward0>),\n",
              " tensor(0.0592, device='cuda:0', grad_fn=<NllLossBackward0>),\n",
              " tensor(0.0634, device='cuda:0', grad_fn=<NllLossBackward0>),\n",
              " tensor(0.0252, device='cuda:0', grad_fn=<NllLossBackward0>),\n",
              " tensor(0.0155, device='cuda:0', grad_fn=<NllLossBackward0>),\n",
              " tensor(0.1214, device='cuda:0', grad_fn=<NllLossBackward0>),\n",
              " tensor(0.0202, device='cuda:0', grad_fn=<NllLossBackward0>),\n",
              " tensor(0.0999, device='cuda:0', grad_fn=<NllLossBackward0>),\n",
              " tensor(0.0189, device='cuda:0', grad_fn=<NllLossBackward0>),\n",
              " tensor(0.0116, device='cuda:0', grad_fn=<NllLossBackward0>),\n",
              " tensor(0.0182, device='cuda:0', grad_fn=<NllLossBackward0>),\n",
              " tensor(0.0452, device='cuda:0', grad_fn=<NllLossBackward0>),\n",
              " tensor(0.0374, device='cuda:0', grad_fn=<NllLossBackward0>),\n",
              " tensor(0.0925, device='cuda:0', grad_fn=<NllLossBackward0>),\n",
              " tensor(0.0157, device='cuda:0', grad_fn=<NllLossBackward0>),\n",
              " tensor(0.0155, device='cuda:0', grad_fn=<NllLossBackward0>),\n",
              " tensor(0.0341, device='cuda:0', grad_fn=<NllLossBackward0>),\n",
              " tensor(0.0116, device='cuda:0', grad_fn=<NllLossBackward0>),\n",
              " tensor(0.0502, device='cuda:0', grad_fn=<NllLossBackward0>),\n",
              " tensor(0.0394, device='cuda:0', grad_fn=<NllLossBackward0>),\n",
              " tensor(0.0780, device='cuda:0', grad_fn=<NllLossBackward0>),\n",
              " tensor(0.0403, device='cuda:0', grad_fn=<NllLossBackward0>),\n",
              " tensor(0.0818, device='cuda:0', grad_fn=<NllLossBackward0>),\n",
              " tensor(0.0467, device='cuda:0', grad_fn=<NllLossBackward0>),\n",
              " tensor(0.0560, device='cuda:0', grad_fn=<NllLossBackward0>),\n",
              " tensor(0.0066, device='cuda:0', grad_fn=<NllLossBackward0>),\n",
              " tensor(0.0379, device='cuda:0', grad_fn=<NllLossBackward0>),\n",
              " tensor(0.0115, device='cuda:0', grad_fn=<NllLossBackward0>),\n",
              " tensor(0.0785, device='cuda:0', grad_fn=<NllLossBackward0>),\n",
              " tensor(0.0161, device='cuda:0', grad_fn=<NllLossBackward0>),\n",
              " tensor(0.0396, device='cuda:0', grad_fn=<NllLossBackward0>),\n",
              " tensor(0.0392, device='cuda:0', grad_fn=<NllLossBackward0>),\n",
              " tensor(0.0232, device='cuda:0', grad_fn=<NllLossBackward0>),\n",
              " tensor(0.0747, device='cuda:0', grad_fn=<NllLossBackward0>),\n",
              " tensor(0.0432, device='cuda:0', grad_fn=<NllLossBackward0>),\n",
              " tensor(0.0358, device='cuda:0', grad_fn=<NllLossBackward0>),\n",
              " tensor(0.0314, device='cuda:0', grad_fn=<NllLossBackward0>),\n",
              " tensor(0.0475, device='cuda:0', grad_fn=<NllLossBackward0>),\n",
              " tensor(0.0134, device='cuda:0', grad_fn=<NllLossBackward0>),\n",
              " tensor(0.0671, device='cuda:0', grad_fn=<NllLossBackward0>),\n",
              " tensor(0.0014, device='cuda:0', grad_fn=<NllLossBackward0>),\n",
              " tensor(0.0165, device='cuda:0', grad_fn=<NllLossBackward0>),\n",
              " tensor(0.0471, device='cuda:0', grad_fn=<NllLossBackward0>),\n",
              " tensor(0.0471, device='cuda:0', grad_fn=<NllLossBackward0>),\n",
              " tensor(0.0537, device='cuda:0', grad_fn=<NllLossBackward0>),\n",
              " tensor(0.0820, device='cuda:0', grad_fn=<NllLossBackward0>),\n",
              " tensor(0.0421, device='cuda:0', grad_fn=<NllLossBackward0>),\n",
              " tensor(0.0683, device='cuda:0', grad_fn=<NllLossBackward0>),\n",
              " tensor(0.0253, device='cuda:0', grad_fn=<NllLossBackward0>),\n",
              " tensor(0.0241, device='cuda:0', grad_fn=<NllLossBackward0>),\n",
              " tensor(0.0115, device='cuda:0', grad_fn=<NllLossBackward0>),\n",
              " tensor(0.0349, device='cuda:0', grad_fn=<NllLossBackward0>),\n",
              " tensor(0.0419, device='cuda:0', grad_fn=<NllLossBackward0>),\n",
              " tensor(0.0306, device='cuda:0', grad_fn=<NllLossBackward0>),\n",
              " tensor(0.0277, device='cuda:0', grad_fn=<NllLossBackward0>),\n",
              " tensor(0.0826, device='cuda:0', grad_fn=<NllLossBackward0>),\n",
              " tensor(0.0328, device='cuda:0', grad_fn=<NllLossBackward0>),\n",
              " tensor(0.0266, device='cuda:0', grad_fn=<NllLossBackward0>),\n",
              " tensor(0.0661, device='cuda:0', grad_fn=<NllLossBackward0>),\n",
              " tensor(0.0378, device='cuda:0', grad_fn=<NllLossBackward0>),\n",
              " tensor(0.0792, device='cuda:0', grad_fn=<NllLossBackward0>),\n",
              " tensor(0.0118, device='cuda:0', grad_fn=<NllLossBackward0>),\n",
              " tensor(0.0619, device='cuda:0', grad_fn=<NllLossBackward0>),\n",
              " tensor(0.0203, device='cuda:0', grad_fn=<NllLossBackward0>),\n",
              " tensor(0.0802, device='cuda:0', grad_fn=<NllLossBackward0>),\n",
              " tensor(0.0303, device='cuda:0', grad_fn=<NllLossBackward0>),\n",
              " tensor(0.0421, device='cuda:0', grad_fn=<NllLossBackward0>),\n",
              " tensor(0.0092, device='cuda:0', grad_fn=<NllLossBackward0>),\n",
              " tensor(0.0691, device='cuda:0', grad_fn=<NllLossBackward0>),\n",
              " tensor(0.0472, device='cuda:0', grad_fn=<NllLossBackward0>),\n",
              " tensor(0.0327, device='cuda:0', grad_fn=<NllLossBackward0>),\n",
              " tensor(0.0531, device='cuda:0', grad_fn=<NllLossBackward0>),\n",
              " tensor(0.0109, device='cuda:0', grad_fn=<NllLossBackward0>),\n",
              " tensor(0.1148, device='cuda:0', grad_fn=<NllLossBackward0>),\n",
              " tensor(0.0436, device='cuda:0', grad_fn=<NllLossBackward0>),\n",
              " tensor(0.0105, device='cuda:0', grad_fn=<NllLossBackward0>),\n",
              " tensor(0.1300, device='cuda:0', grad_fn=<NllLossBackward0>),\n",
              " tensor(0.0193, device='cuda:0', grad_fn=<NllLossBackward0>),\n",
              " tensor(0.0249, device='cuda:0', grad_fn=<NllLossBackward0>),\n",
              " tensor(0.0645, device='cuda:0', grad_fn=<NllLossBackward0>),\n",
              " tensor(0.0210, device='cuda:0', grad_fn=<NllLossBackward0>),\n",
              " tensor(0.0353, device='cuda:0', grad_fn=<NllLossBackward0>),\n",
              " tensor(0.0749, device='cuda:0', grad_fn=<NllLossBackward0>),\n",
              " tensor(0.0269, device='cuda:0', grad_fn=<NllLossBackward0>),\n",
              " tensor(0.0312, device='cuda:0', grad_fn=<NllLossBackward0>),\n",
              " tensor(0.0099, device='cuda:0', grad_fn=<NllLossBackward0>),\n",
              " tensor(0.0223, device='cuda:0', grad_fn=<NllLossBackward0>),\n",
              " tensor(0.0783, device='cuda:0', grad_fn=<NllLossBackward0>),\n",
              " tensor(0.0104, device='cuda:0', grad_fn=<NllLossBackward0>),\n",
              " tensor(0.1140, device='cuda:0', grad_fn=<NllLossBackward0>),\n",
              " tensor(0.0798, device='cuda:0', grad_fn=<NllLossBackward0>),\n",
              " tensor(0.0134, device='cuda:0', grad_fn=<NllLossBackward0>),\n",
              " tensor(0.0165, device='cuda:0', grad_fn=<NllLossBackward0>),\n",
              " tensor(0.0553, device='cuda:0', grad_fn=<NllLossBackward0>),\n",
              " tensor(0.0936, device='cuda:0', grad_fn=<NllLossBackward0>),\n",
              " tensor(0.0168, device='cuda:0', grad_fn=<NllLossBackward0>),\n",
              " tensor(0.1299, device='cuda:0', grad_fn=<NllLossBackward0>),\n",
              " tensor(0.0167, device='cuda:0', grad_fn=<NllLossBackward0>),\n",
              " tensor(0.0615, device='cuda:0', grad_fn=<NllLossBackward0>),\n",
              " tensor(0.0143, device='cuda:0', grad_fn=<NllLossBackward0>),\n",
              " tensor(0.1006, device='cuda:0', grad_fn=<NllLossBackward0>),\n",
              " tensor(0.0260, device='cuda:0', grad_fn=<NllLossBackward0>),\n",
              " tensor(0.0640, device='cuda:0', grad_fn=<NllLossBackward0>),\n",
              " tensor(0.0770, device='cuda:0', grad_fn=<NllLossBackward0>),\n",
              " tensor(0.0433, device='cuda:0', grad_fn=<NllLossBackward0>),\n",
              " tensor(0.1097, device='cuda:0', grad_fn=<NllLossBackward0>),\n",
              " tensor(0.0157, device='cuda:0', grad_fn=<NllLossBackward0>),\n",
              " tensor(0.0662, device='cuda:0', grad_fn=<NllLossBackward0>),\n",
              " tensor(0.1156, device='cuda:0', grad_fn=<NllLossBackward0>),\n",
              " tensor(0.0260, device='cuda:0', grad_fn=<NllLossBackward0>),\n",
              " tensor(0.0243, device='cuda:0', grad_fn=<NllLossBackward0>),\n",
              " tensor(0.0163, device='cuda:0', grad_fn=<NllLossBackward0>),\n",
              " tensor(0.0660, device='cuda:0', grad_fn=<NllLossBackward0>),\n",
              " tensor(0.1325, device='cuda:0', grad_fn=<NllLossBackward0>),\n",
              " tensor(0.0370, device='cuda:0', grad_fn=<NllLossBackward0>),\n",
              " tensor(0.0508, device='cuda:0', grad_fn=<NllLossBackward0>),\n",
              " tensor(0.0373, device='cuda:0', grad_fn=<NllLossBackward0>),\n",
              " tensor(0.0244, device='cuda:0', grad_fn=<NllLossBackward0>),\n",
              " tensor(0.0283, device='cuda:0', grad_fn=<NllLossBackward0>),\n",
              " tensor(0.0266, device='cuda:0', grad_fn=<NllLossBackward0>),\n",
              " tensor(0.0387, device='cuda:0', grad_fn=<NllLossBackward0>),\n",
              " tensor(0.0189, device='cuda:0', grad_fn=<NllLossBackward0>),\n",
              " tensor(0.0469, device='cuda:0', grad_fn=<NllLossBackward0>),\n",
              " tensor(0.0661, device='cuda:0', grad_fn=<NllLossBackward0>),\n",
              " tensor(0.0422, device='cuda:0', grad_fn=<NllLossBackward0>),\n",
              " tensor(0.0129, device='cuda:0', grad_fn=<NllLossBackward0>),\n",
              " tensor(0.0446, device='cuda:0', grad_fn=<NllLossBackward0>),\n",
              " tensor(0.0112, device='cuda:0', grad_fn=<NllLossBackward0>),\n",
              " tensor(0.0106, device='cuda:0', grad_fn=<NllLossBackward0>),\n",
              " tensor(0.0276, device='cuda:0', grad_fn=<NllLossBackward0>),\n",
              " tensor(0.0374, device='cuda:0', grad_fn=<NllLossBackward0>),\n",
              " tensor(0.0170, device='cuda:0', grad_fn=<NllLossBackward0>),\n",
              " tensor(0.0267, device='cuda:0', grad_fn=<NllLossBackward0>),\n",
              " tensor(0.0097, device='cuda:0', grad_fn=<NllLossBackward0>),\n",
              " tensor(0.0212, device='cuda:0', grad_fn=<NllLossBackward0>),\n",
              " tensor(0.0329, device='cuda:0', grad_fn=<NllLossBackward0>),\n",
              " tensor(0.0080, device='cuda:0', grad_fn=<NllLossBackward0>),\n",
              " tensor(0.0267, device='cuda:0', grad_fn=<NllLossBackward0>),\n",
              " tensor(0.0271, device='cuda:0', grad_fn=<NllLossBackward0>),\n",
              " tensor(0.0244, device='cuda:0', grad_fn=<NllLossBackward0>),\n",
              " tensor(0.0148, device='cuda:0', grad_fn=<NllLossBackward0>),\n",
              " tensor(0.0190, device='cuda:0', grad_fn=<NllLossBackward0>),\n",
              " tensor(0.0140, device='cuda:0', grad_fn=<NllLossBackward0>),\n",
              " tensor(0.0029, device='cuda:0', grad_fn=<NllLossBackward0>),\n",
              " tensor(0.0484, device='cuda:0', grad_fn=<NllLossBackward0>),\n",
              " tensor(0.0834, device='cuda:0', grad_fn=<NllLossBackward0>),\n",
              " tensor(0.0680, device='cuda:0', grad_fn=<NllLossBackward0>),\n",
              " tensor(0.0090, device='cuda:0', grad_fn=<NllLossBackward0>),\n",
              " tensor(0.0060, device='cuda:0', grad_fn=<NllLossBackward0>),\n",
              " tensor(0.1816, device='cuda:0', grad_fn=<NllLossBackward0>),\n",
              " tensor(0.0509, device='cuda:0', grad_fn=<NllLossBackward0>),\n",
              " tensor(0.0187, device='cuda:0', grad_fn=<NllLossBackward0>),\n",
              " tensor(0.0078, device='cuda:0', grad_fn=<NllLossBackward0>),\n",
              " tensor(0.0054, device='cuda:0', grad_fn=<NllLossBackward0>),\n",
              " tensor(0.0599, device='cuda:0', grad_fn=<NllLossBackward0>),\n",
              " tensor(0.0659, device='cuda:0', grad_fn=<NllLossBackward0>),\n",
              " tensor(0.0181, device='cuda:0', grad_fn=<NllLossBackward0>),\n",
              " tensor(0.0394, device='cuda:0', grad_fn=<NllLossBackward0>),\n",
              " tensor(0.0293, device='cuda:0', grad_fn=<NllLossBackward0>),\n",
              " tensor(0.0256, device='cuda:0', grad_fn=<NllLossBackward0>),\n",
              " tensor(0.0226, device='cuda:0', grad_fn=<NllLossBackward0>),\n",
              " tensor(0.0144, device='cuda:0', grad_fn=<NllLossBackward0>),\n",
              " tensor(0.0305, device='cuda:0', grad_fn=<NllLossBackward0>),\n",
              " tensor(0.0298, device='cuda:0', grad_fn=<NllLossBackward0>),\n",
              " tensor(0.0247, device='cuda:0', grad_fn=<NllLossBackward0>),\n",
              " tensor(0.0616, device='cuda:0', grad_fn=<NllLossBackward0>),\n",
              " tensor(0.1120, device='cuda:0', grad_fn=<NllLossBackward0>),\n",
              " tensor(0.0811, device='cuda:0', grad_fn=<NllLossBackward0>),\n",
              " tensor(0.0890, device='cuda:0', grad_fn=<NllLossBackward0>),\n",
              " tensor(0.0050, device='cuda:0', grad_fn=<NllLossBackward0>),\n",
              " tensor(0.0346, device='cuda:0', grad_fn=<NllLossBackward0>),\n",
              " tensor(0.0297, device='cuda:0', grad_fn=<NllLossBackward0>),\n",
              " tensor(0.0377, device='cuda:0', grad_fn=<NllLossBackward0>),\n",
              " tensor(0.0259, device='cuda:0', grad_fn=<NllLossBackward0>),\n",
              " tensor(0.0456, device='cuda:0', grad_fn=<NllLossBackward0>),\n",
              " tensor(0.0715, device='cuda:0', grad_fn=<NllLossBackward0>),\n",
              " tensor(0.0074, device='cuda:0', grad_fn=<NllLossBackward0>),\n",
              " tensor(0.0797, device='cuda:0', grad_fn=<NllLossBackward0>),\n",
              " ...]"
            ]
          },
          "metadata": {},
          "execution_count": 12
        }
      ]
    },
    {
      "cell_type": "code",
      "source": [
        "t = [t_items.item() for t_items in train_losses]"
      ],
      "metadata": {
        "id": "BnfNrAmKl5Tc"
      },
      "execution_count": null,
      "outputs": []
    },
    {
      "cell_type": "code",
      "metadata": {
        "id": "87RaqGSEOWDe",
        "colab": {
          "base_uri": "https://localhost:8080/",
          "height": 870
        },
        "outputId": "440f559c-d2d2-4112-bc98-a07355821fa6"
      },
      "source": [
        "fig, axs = plt.subplots(2,2,figsize=(15,10))\n",
        "axs[0, 0].plot(t)\n",
        "axs[0, 0].set_title(\"Training Loss\")\n",
        "axs[1, 0].plot(train_acc)\n",
        "axs[1, 0].set_title(\"Training Accuracy\")\n",
        "axs[0, 1].plot(test_losses)\n",
        "axs[0, 1].set_title(\"Test Loss\")\n",
        "axs[1, 1].plot(test_acc)\n",
        "axs[1, 1].set_title(\"Test Accuracy\")"
      ],
      "execution_count": null,
      "outputs": [
        {
          "output_type": "execute_result",
          "data": {
            "text/plain": [
              "Text(0.5, 1.0, 'Test Accuracy')"
            ]
          },
          "metadata": {},
          "execution_count": 14
        },
        {
          "output_type": "display_data",
          "data": {
            "text/plain": [
              "<Figure size 1500x1000 with 4 Axes>"
            ],
            "image/png": "[encoded data removed]"
          },
          "metadata": {}
        }
      ]
    },
    {
      "cell_type": "code",
      "metadata": {
        "id": "odozjbIvY12p"
      },
      "source": [],
      "execution_count": null,
      "outputs": []
    }
  ]
}