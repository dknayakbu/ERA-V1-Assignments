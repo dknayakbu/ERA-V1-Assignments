{
 "cells": [
  {
   "cell_type": "code",
   "execution_count": 1,
   "id": "cfbc6ffe",
   "metadata": {},
   "outputs": [
    {
     "name": "stdout",
     "output_type": "stream",
     "text": [
      "Cloning into 'ERA-V1'...\n",
      "remote: Enumerating objects: 2014, done.\u001b[K\n",
      "remote: Counting objects: 100% (112/112), done.\u001b[K\n",
      "remote: Compressing objects: 100% (110/110), done.\u001b[K\n",
      "remote: Total 2014 (delta 69), reused 0 (delta 0), pack-reused 1902\u001b[K\n",
      "Receiving objects: 100% (2014/2014), 248.86 MiB | 5.87 MiB/s, done.\n",
      "Resolving deltas: 100% (866/866), done.\n",
      "Already up to date.\n"
     ]
    }
   ],
   "source": [
    "!git clone https://github.com/dknayakbu/ERA-V1-Assignments.git\n",
    "!git -C ERA-V1-Assignments pull\n",
    "!pip install --quiet \"pandas\" \"torch\" \"torchtext\" \"torchvision\" \"ipython[notebook]\" \"seaborn\" \"pytorch-lightning\" \"torchmetrics\" \"lightning-bolts\" \"torch-lr-finder\" \"grad-cam\" \"gradio\" \"torchinfo\" \"tokenizers\" \"datasets\" \"torchsummary\""
   ]
  },
  {
   "cell_type": "code",
   "execution_count": 2,
   "id": "e399980a",
   "metadata": {},
   "outputs": [],
   "source": [
    "import sys\n",
    "sys.path.append(\"ERA-V1-Assignments/S16\")"
   ]
  },
  {
   "cell_type": "code",
   "execution_count": null,
   "id": "6e60b861",
   "metadata": {
    "scrolled": false
   },
   "outputs": [
    {
     "name": "stderr",
     "output_type": "stream",
     "text": [
      "2023-09-09 02:00:56.283065: I tensorflow/core/platform/cpu_feature_guard.cc:193] This TensorFlow binary is optimized with oneAPI Deep Neural Network Library (oneDNN) to use the following CPU instructions in performance-critical operations:  AVX2 FMA\n",
      "To enable them in other operations, rebuild TensorFlow with the appropriate compiler flags.\n",
      "2023-09-09 02:00:56.407075: E tensorflow/stream_executor/cuda/cuda_blas.cc:2981] Unable to register cuBLAS factory: Attempting to register factory for plugin cuBLAS when one has already been registered\n",
      "2023-09-09 02:00:56.828993: W tensorflow/stream_executor/platform/default/dso_loader.cc:64] Could not load dynamic library 'libnvinfer.so.7'; dlerror: libnvinfer.so.7: cannot open shared object file: No such file or directory\n",
      "2023-09-09 02:00:56.829081: W tensorflow/stream_executor/platform/default/dso_loader.cc:64] Could not load dynamic library 'libnvinfer_plugin.so.7'; dlerror: libnvinfer_plugin.so.7: cannot open shared object file: No such file or directory\n",
      "2023-09-09 02:00:56.829093: W tensorflow/compiler/tf2tensorrt/utils/py_utils.cc:38] TF-TRT Warning: Cannot dlopen some TensorRT libraries. If you would like to use Nvidia GPU with TensorRT, please make sure the missing libraries mentioned above are installed properly.\n"
     ]
    },
    {
     "name": "stdout",
     "output_type": "stream",
     "text": [
      "Using device: cuda\n",
      "Max length of source sentence: 471\n",
      "Max length of target sentence: 482\n",
      "huggingface/tokenizers: The current process just got forked, after parallelism has already been used. Disabling parallelism to avoid deadlocks...\n",
      "To disable this warning, you can either:\n",
      "\t- Avoid using `tokenizers` before the fork if possible\n",
      "\t- Explicitly set the environment variable TOKENIZERS_PARALLELISM=(true | false)\n",
      "huggingface/tokenizers: The current process just got forked, after parallelism has already been used. Disabling parallelism to avoid deadlocks...\n",
      "To disable this warning, you can either:\n",
      "\t- Avoid using `tokenizers` before the fork if possible\n",
      "\t- Explicitly set the environment variable TOKENIZERS_PARALLELISM=(true | false)\n",
      "huggingface/tokenizers: The current process just got forked, after parallelism has already been used. Disabling parallelism to avoid deadlocks...\n",
      "To disable this warning, you can either:\n",
      "\t- Avoid using `tokenizers` before the fork if possible\n",
      "\t- Explicitly set the environment variable TOKENIZERS_PARALLELISM=(true | false)\n",
      "huggingface/tokenizers: The current process just got forked, after parallelism has already been used. Disabling parallelism to avoid deadlocks...\n",
      "To disable this warning, you can either:\n",
      "\t- Avoid using `tokenizers` before the fork if possible\n",
      "\t- Explicitly set the environment variable TOKENIZERS_PARALLELISM=(true | false)\n",
      "huggingface/tokenizers: The current process just got forked, after parallelism has already been used. Disabling parallelism to avoid deadlocks...\n",
      "To disable this warning, you can either:\n",
      "\t- Avoid using `tokenizers` before the fork if possible\n",
      "\t- Explicitly set the environment variable TOKENIZERS_PARALLELISM=(true | false)\n",
      "huggingface/tokenizers: The current process just got forked, after parallelism has already been used. Disabling parallelism to avoid deadlocks...\n",
      "To disable this warning, you can either:\n",
      "\t- Avoid using `tokenizers` before the fork if possible\n",
      "\t- Explicitly set the environment variable TOKENIZERS_PARALLELISM=(true | false)\n"
     ]
    },
    {
     "name": "stderr",
     "output_type": "stream",
     "text": [
      "Processing Epoch 00: 100%|████████████████████████████████████████████████████████████| 1929/1929 [02:06<00:00, 15.23it/s, loss=4.684]\n",
      "stty: 'standard input': Inappropriate ioctl for device\n"
     ]
    },
    {
     "name": "stdout",
     "output_type": "stream",
     "text": [
      "Average loss of epoch 0 is 5.737465578883098\n",
      "huggingface/tokenizers: The current process just got forked, after parallelism has already been used. Disabling parallelism to avoid deadlocks...\n",
      "To disable this warning, you can either:\n",
      "\t- Avoid using `tokenizers` before the fork if possible\n",
      "\t- Explicitly set the environment variable TOKENIZERS_PARALLELISM=(true | false)\n",
      "--------------------------------------------------------------------------------\n",
      "    SOURCE: \"Brother? Yes; at the distance of a thousand leagues! Sisters? Yes; slaving amongst strangers! I, wealthy--gorged with gold I never earned and do not merit! You, penniless! Famous equality and fraternisation! Close union! Intimate attachment!\"\n",
      "    TARGET: -- Mon frère éloigné de mille lieues, mes soeurs asservies chez des étrangers, et moi riche, gorgée d'or, sans l'avoir jamais ni gagné ni mérité! Est-ce là une égalité fraternelle, une union ultime, un profond attachement?\n",
      " PREDICTED: -- Et , dit le bout de la petite petite petite petite petite petite petite !\n",
      "--------------------------------------------------------------------------------\n",
      "    SOURCE: I can see him now, for he had so deep a crease across his brown cheek that no tear could pass it, but must trickle away sideways and so down to his ear, hopping off on to the sheet of paper.\n",
      "    TARGET: Je le voyais fort bien à présent, car il avait à travers sa joue pâlie une ride si profonde, qu'aucune larme ne pouvait la franchir. Il fallait qu'elle glissât de côté jusqu'à son oreille, d'où elle tombait sur la feuille de papier.\n",
      " PREDICTED: Je ne sais que le , il avait été une femme de sa femme , mais il ne me pas à son coeur .\n",
      "--------------------------------------------------------------------------------\n"
     ]
    },
    {
     "name": "stderr",
     "output_type": "stream",
     "text": [
      "Processing Epoch 01: 100%|████████████████████████████████████████████████████████████| 1929/1929 [02:07<00:00, 15.11it/s, loss=4.297]\n",
      "stty: 'standard input': Inappropriate ioctl for device\n"
     ]
    },
    {
     "name": "stdout",
     "output_type": "stream",
     "text": [
      "Average loss of epoch 1 is 4.392081091106093\n",
      "huggingface/tokenizers: The current process just got forked, after parallelism has already been used. Disabling parallelism to avoid deadlocks...\n",
      "To disable this warning, you can either:\n",
      "\t- Avoid using `tokenizers` before the fork if possible\n",
      "\t- Explicitly set the environment variable TOKENIZERS_PARALLELISM=(true | false)\n",
      "--------------------------------------------------------------------------------\n",
      "    SOURCE: The next day the sky was again overcast; but on the 29th of June, the last day but one of the month, with the change of the moon came a change of weather.\n",
      "    TARGET: Le lendemain le ciel fut encore couvert, mais le dimanche, 28 juin, l'antépénultième jour du mois, avec le changement de lune vint le changement de temps.\n",
      " PREDICTED: Le lendemain , le ciel était encore , mais au milieu des mois , le lendemain , le jour , la pluie de la lune , la pluie d ’ une grande nouvelle nouvelle nouvelle nouvelle nouvelle nouvelle nouvelle nouvelle nouvelle nouvelle nouvelle nouvelle nouvelle nouvelle nouvelle nouvelle nouvelle nouvelle nouvelle nouvelle nouvelle nouvelle nouvelle nouvelle nouvelle nouvelle nouvelle nouvelle nouvelle nouvelle nouvelle nouvelle nouvelle nouvelle nouvelle nouvelle nouvelle nouvelle nouvelle nouvelle nouvelle nouvelle nouvelle nouvelle nouvelle nouvelle nouvelle nouvelle nouvelle nouvelle nouvelle nouvelle nouvelle nouvelle nouvelle nouvelle nouvelle nouvelle nouvelle nouvelle nouvelle nouvelle nouvelle nouvelle nouvelle nouvelle nouvelle nouvelle nouvelle nouvelle nouvelle nouvelle nouvelle nouvelle nouvelle nouvelle nouvelle nouvelle nouvelle nouvelle nouvelle nouvelle nouvelle nouvelle nouvelle nouvelle nouvelle nouvelle nouvelle nouvelle nouvelle nouvelle nouvelle nouvelle nouvelle nouvelle nouvelle nouvelle nouvelle nouvelle nouvelle nouvelle nouvelle nouvelle nouvelle nouvelle nouvelle nouvelle .\n",
      "--------------------------------------------------------------------------------\n",
      "    SOURCE: \"A husband for Cousin Edie,\" said I.\n",
      "    TARGET: -- Un mari pour la cousine Edie, répondis-je.\n",
      " PREDICTED: -- Un mari pour Edie , dis - je .\n",
      "--------------------------------------------------------------------------------\n"
     ]
    },
    {
     "name": "stderr",
     "output_type": "stream",
     "text": [
      "Processing Epoch 02: 100%|████████████████████████████████████████████████████████████| 1929/1929 [02:07<00:00, 15.18it/s, loss=3.814]\n",
      "stty: 'standard input': Inappropriate ioctl for device\n"
     ]
    },
    {
     "name": "stdout",
     "output_type": "stream",
     "text": [
      "Average loss of epoch 2 is 3.8029715834410465\n",
      "huggingface/tokenizers: The current process just got forked, after parallelism has already been used. Disabling parallelism to avoid deadlocks...\n",
      "To disable this warning, you can either:\n",
      "\t- Avoid using `tokenizers` before the fork if possible\n",
      "\t- Explicitly set the environment variable TOKENIZERS_PARALLELISM=(true | false)\n",
      "--------------------------------------------------------------------------------\n",
      "    SOURCE: I agree, therefore, with Mr. Spilett, that she must be left in Port Balloon.\n",
      "    TARGET: Je pense donc, comme M Spilett, qu'il faut le laisser à port-ballon.\n",
      " PREDICTED: Je suis donc à l ' avis de monsieur Spilett , qu ' elle devait quitter le port ballon .\n",
      "--------------------------------------------------------------------------------\n",
      "    SOURCE: I cannot find in that single circumstance a reason for admiration.\n",
      "    TARGET: Je ne puis trouver dans cette seule circonstance une raison pour admirer.\n",
      " PREDICTED: Je ne puis trouver une raison pour l ’ admiration .\n",
      "--------------------------------------------------------------------------------\n"
     ]
    },
    {
     "name": "stderr",
     "output_type": "stream",
     "text": [
      "Processing Epoch 03: 100%|████████████████████████████████████████████████████████████| 1929/1929 [02:07<00:00, 15.10it/s, loss=3.354]\n",
      "stty: 'standard input': Inappropriate ioctl for device\n"
     ]
    },
    {
     "name": "stdout",
     "output_type": "stream",
     "text": [
      "Average loss of epoch 3 is 3.459429015020684\n",
      "huggingface/tokenizers: The current process just got forked, after parallelism has already been used. Disabling parallelism to avoid deadlocks...\n",
      "To disable this warning, you can either:\n",
      "\t- Avoid using `tokenizers` before the fork if possible\n",
      "\t- Explicitly set the environment variable TOKENIZERS_PARALLELISM=(true | false)\n",
      "--------------------------------------------------------------------------------\n",
      "    SOURCE: The respect created by the conviction of his valuable qualities, though at first unwillingly admitted, had for some time ceased to be repugnant to her feeling; and it was now heightened into somewhat of a friendlier nature, by the testimony so highly in his favour, and bringing forward his disposition in so amiable a light, which yesterday had produced.\n",
      "    TARGET: Depuis quelque temps déja elle avait cessé de lutter contre le respect que lui inspiraient ses indéniables qualités, et sous l’influence du témoignage qui lui avait été rendu la veille et qui montrait son caractere sous un jour si favorable, ce respect se transformait en quelque chose d’une nature plus amicale.\n",
      " PREDICTED: Le respect faisait par la conviction de ses , quoique de première , n ’ avait pas de temps de temps si gai , et de temps de l ’ avoir été si gai .\n",
      "--------------------------------------------------------------------------------\n",
      "    SOURCE: By way of decoration for the apartment, hanging to a nail in the middle of the wall, whose green paint scaled off from the effects of the saltpetre, was a crayon head of Minerva in gold frame, underneath which was written in Gothic letters \"To dear Papa.\"\n",
      "    TARGET: Il y avait, pour décorer l’appartement, accrochée à un clou, au milieu du mur dont la peinture verte s’écaillait sous le salpêtre, une tête de Minerve au crayon noir, encadrée de dorure, et qui portait au bas, écrit en lettres gothiques: «À mon cher papa.»\n",
      " PREDICTED: À propos de cette chambre , à un clou , au milieu de la muraille , dont de la petite petite petite petite petite petite petite petite petite petite petite petite petite petite petite petite petite petite petite petite petite petite petite petite petite petite petite petite petite petite petite petite petite petite petite petite petite petite petite petite petite petite petite petite petite petite petite petite petite petite petite petite petite petite petite petite petite petite petite petite petite petite petite petite petite petite petite petite petite petite petite petite petite petite petite petite , , , , , , , , , , , , , , , , , , , , , , , , , , , , , , , , , , , , , , , ,\n",
      "--------------------------------------------------------------------------------\n"
     ]
    },
    {
     "name": "stderr",
     "output_type": "stream",
     "text": [
      "Processing Epoch 04: 100%|████████████████████████████████████████████████████████████| 1929/1929 [02:07<00:00, 15.17it/s, loss=3.153]\n",
      "stty: 'standard input': Inappropriate ioctl for device\n"
     ]
    },
    {
     "name": "stdout",
     "output_type": "stream",
     "text": [
      "Average loss of epoch 4 is 3.233156673397778\n",
      "huggingface/tokenizers: The current process just got forked, after parallelism has already been used. Disabling parallelism to avoid deadlocks...\n",
      "To disable this warning, you can either:\n",
      "\t- Avoid using `tokenizers` before the fork if possible\n",
      "\t- Explicitly set the environment variable TOKENIZERS_PARALLELISM=(true | false)\n",
      "--------------------------------------------------------------------------------\n",
      "    SOURCE: At the beginning of the second week, the child having told him that the police supposed he had gone over to Belgium, Étienne ventured out of his hole at nightfall.\n",
      "    TARGET: Au commencement de la seconde semaine, l'enfant lui ayant dit que les gendarmes le croyaient passé en Belgique, Étienne osa sortir de son trou, des la nuit tombée.\n",
      " PREDICTED: Au commencement de la seconde semaine , l ' enfant lui dit que la police avait filé a la Belgique , osait la cour , Étienne osa de la nuit .\n",
      "--------------------------------------------------------------------------------\n",
      "    SOURCE: \"Halloa, Charlie!\n",
      "    TARGET: -- Hello!\n",
      " PREDICTED: -- Hello , Charlie !\n",
      "--------------------------------------------------------------------------------\n"
     ]
    },
    {
     "name": "stderr",
     "output_type": "stream",
     "text": [
      "Processing Epoch 05: 100%|████████████████████████████████████████████████████████████| 1929/1929 [02:06<00:00, 15.27it/s, loss=3.081]\n",
      "stty: 'standard input': Inappropriate ioctl for device\n"
     ]
    },
    {
     "name": "stdout",
     "output_type": "stream",
     "text": [
      "Average loss of epoch 5 is 2.984292781186141\n",
      "huggingface/tokenizers: The current process just got forked, after parallelism has already been used. Disabling parallelism to avoid deadlocks...\n",
      "To disable this warning, you can either:\n",
      "\t- Avoid using `tokenizers` before the fork if possible\n",
      "\t- Explicitly set the environment variable TOKENIZERS_PARALLELISM=(true | false)\n",
      "--------------------------------------------------------------------------------\n",
      "    SOURCE: Had he lovedher?\n",
      "    TARGET: L'avait-il aimée?\n",
      " PREDICTED: - il ?\n",
      "--------------------------------------------------------------------------------\n",
      "    SOURCE: Rosemilly?\"\n",
      "    TARGET: --Mais oui.\n",
      " PREDICTED: Mme Rosémilly ?\n",
      "--------------------------------------------------------------------------------\n"
     ]
    },
    {
     "name": "stderr",
     "output_type": "stream",
     "text": [
      "Processing Epoch 06: 100%|████████████████████████████████████████████████████████████| 1929/1929 [02:05<00:00, 15.38it/s, loss=2.823]\n",
      "stty: 'standard input': Inappropriate ioctl for device\n"
     ]
    },
    {
     "name": "stdout",
     "output_type": "stream",
     "text": [
      "Average loss of epoch 6 is 2.6599805530579737\n",
      "huggingface/tokenizers: The current process just got forked, after parallelism has already been used. Disabling parallelism to avoid deadlocks...\n",
      "To disable this warning, you can either:\n",
      "\t- Avoid using `tokenizers` before the fork if possible\n",
      "\t- Explicitly set the environment variable TOKENIZERS_PARALLELISM=(true | false)\n",
      "--------------------------------------------------------------------------------\n",
      "    SOURCE: Aussi, me levant, j’allai a la fenetre et me mis a regarder dans la rue tres animée a ce moment.\n",
      "    TARGET: I walked over to the window, and stood looking out into the busy street.\n",
      " PREDICTED: Besides , me , I went into the room and I saw the street in the street that was animated .\n",
      "--------------------------------------------------------------------------------\n",
      "    SOURCE: \"Your name?\" said the officer, who covered a part of his face with his cloak.\n",
      "    TARGET: -- Votre nom? dit l'officier, qui se couvrait une partie du visage avec son manteau.\n",
      " PREDICTED: « Votre nom ? dit l ' officier qui couvrit sa figure avec son manteau .\n",
      "--------------------------------------------------------------------------------\n"
     ]
    },
    {
     "name": "stderr",
     "output_type": "stream",
     "text": [
      "Processing Epoch 07: 100%|████████████████████████████████████████████████████████████| 1929/1929 [02:07<00:00, 15.17it/s, loss=2.499]\n",
      "stty: 'standard input': Inappropriate ioctl for device\n"
     ]
    },
    {
     "name": "stdout",
     "output_type": "stream",
     "text": [
      "Average loss of epoch 7 is 2.388941284533669\n",
      "huggingface/tokenizers: The current process just got forked, after parallelism has already been used. Disabling parallelism to avoid deadlocks...\n",
      "To disable this warning, you can either:\n",
      "\t- Avoid using `tokenizers` before the fork if possible\n",
      "\t- Explicitly set the environment variable TOKENIZERS_PARALLELISM=(true | false)\n",
      "--------------------------------------------------------------------------------\n",
      "    SOURCE: Milady had told the truth--her head was confused, for her ill-arranged plans clashed one another like chaos.\n",
      "    TARGET: Milady avait dit la vérité, elle avait la tête lourde; car ses projets mal classés s'y heurtaient comme dans un chaos.\n",
      " PREDICTED: Milady avait dit la vérité , la tête s ' embarrassait , car elle mal aux projets de un tel chaos .\n",
      "--------------------------------------------------------------------------------\n",
      "    SOURCE: Soon it became a flight; every house hooted him as he passed, they hastened on his heels, it was a whole nation cursing him with a voice that was becoming like thunder in its overwhelming hatred.\n",
      "    TARGET: Bientôt, ce fut une fuite, chaque maison le huait au passage, on s'acharnait sur ses talons, tout un peuple le maudissait d'une voix peu a peu tonnante, dans le débordement de la haine.\n",
      " PREDICTED: Bientôt elle fut une fuite ; chaque maison le prit , on se hâta de les talons , tout le renversa sa gueule en faisant une sorte de sa voix qui se désespérait .\n",
      "--------------------------------------------------------------------------------\n"
     ]
    },
    {
     "name": "stderr",
     "output_type": "stream",
     "text": [
      "Processing Epoch 08: 100%|████████████████████████████████████████████████████████████| 1929/1929 [02:04<00:00, 15.46it/s, loss=2.195]\n",
      "stty: 'standard input': Inappropriate ioctl for device\n"
     ]
    },
    {
     "name": "stdout",
     "output_type": "stream",
     "text": [
      "Average loss of epoch 8 is 2.172951136987527\n",
      "huggingface/tokenizers: The current process just got forked, after parallelism has already been used. Disabling parallelism to avoid deadlocks...\n",
      "To disable this warning, you can either:\n",
      "\t- Avoid using `tokenizers` before the fork if possible\n",
      "\t- Explicitly set the environment variable TOKENIZERS_PARALLELISM=(true | false)\n",
      "--------------------------------------------------------------------------------\n",
      "    SOURCE: The others had rugged black surfaces, measured up to fifteen centimeters in width, and were ten or more years old.\n",
      "    TARGET: Les autres, à surface rude et noire, vieilles de dix ans et plus, mesuraient jusqu'à quinze centimètres de largeur.\n",
      " PREDICTED: Les autres étaient , de quinze centimètres , et douze ans plus âgée .\n",
      "--------------------------------------------------------------------------------\n",
      "    SOURCE: The account of his connection with the Pemberley family was exactly what he had related himself; and the kindness of the late Mr. Darcy, though she had not before known its extent, agreed equally well with his own words.\n",
      "    TARGET: Ce qui concernait les rapports de Wickham avec la famille de Pemberley et la bienveillance de Mr. Darcy pere a son égard correspondait exactement a ce que Wickham en avait dit lui-meme.\n",
      " PREDICTED: Le récit de sa famille était exactement ce qu ’ il avait fait toutes ses bontés ; et l ’ âme de Mr . Darcy était déja bien qu ’ elle avait connu .\n",
      "--------------------------------------------------------------------------------\n"
     ]
    },
    {
     "name": "stderr",
     "output_type": "stream",
     "text": [
      "Processing Epoch 09: 100%|████████████████████████████████████████████████████████████| 1929/1929 [02:06<00:00, 15.30it/s, loss=1.998]\n",
      "stty: 'standard input': Inappropriate ioctl for device\n"
     ]
    },
    {
     "name": "stdout",
     "output_type": "stream",
     "text": [
      "Average loss of epoch 9 is 2.0071091381239112\n",
      "huggingface/tokenizers: The current process just got forked, after parallelism has already been used. Disabling parallelism to avoid deadlocks...\n",
      "To disable this warning, you can either:\n",
      "\t- Avoid using `tokenizers` before the fork if possible\n",
      "\t- Explicitly set the environment variable TOKENIZERS_PARALLELISM=(true | false)\n",
      "--------------------------------------------------------------------------------\n",
      "    SOURCE: \"He has wonderful luck, that brother of mine. He had just come into alegacy of twenty thousand francs a year.\"\n",
      "    TARGET: --Il a joliment de la chance, mon frère, il vient d'hériter de vingtmille francs de rente.\n",
      " PREDICTED: -- Il a une chance heureuse , que mon frère de la mienne , il venait de vingt mille francs par an .\n",
      "--------------------------------------------------------------------------------\n",
      "    SOURCE: 'Yes, indeed, madam,' says Robin. 'I have attacked her in form five times since she was sick, and am beaten off; the jade is so stout she won't capitulate nor yield upon any terms, except such as I cannot effectually grant.'\n",
      "    TARGET: --Oui vraiment, madame, dit Robin, je l'ai attaquée en forme cinq fois depuis qu'elle a été malade, et j'ai été repoussé; la friponne est si ferme qu'elle ne veut ni capituler ni céder à aucuns termes, sinon tels que je ne puis effectivement accorder.\n",
      " PREDICTED: -- Oui , madame , dit Robin , je l ' ai attaqué à cinq fois depuis qu ' elle fût , et je suis bien disposé , et si elle n ' a pas le libre .\n",
      "--------------------------------------------------------------------------------\n"
     ]
    },
    {
     "name": "stderr",
     "output_type": "stream",
     "text": [
      "Processing Epoch 10: 100%|████████████████████████████████████████████████████████████| 1929/1929 [02:06<00:00, 15.19it/s, loss=1.824]\n",
      "stty: 'standard input': Inappropriate ioctl for device\n"
     ]
    },
    {
     "name": "stdout",
     "output_type": "stream",
     "text": [
      "Average loss of epoch 10 is 1.9080390397472786\n",
      "huggingface/tokenizers: The current process just got forked, after parallelism has already been used. Disabling parallelism to avoid deadlocks...\n",
      "To disable this warning, you can either:\n",
      "\t- Avoid using `tokenizers` before the fork if possible\n",
      "\t- Explicitly set the environment variable TOKENIZERS_PARALLELISM=(true | false)\n",
      "--------------------------------------------------------------------------------\n",
      "    SOURCE: \"But why should you wish to persuade me that I feel more than I acknowledge?\" \"That is a question which I hardly know how to answer.\n",
      "    TARGET: – Vous etes vraiment cruelle, repartit Elizabeth.\n",
      " PREDICTED: -- Mais pourquoi voulez - vous dire que je me suis plus sûr ? c ' est une question que je sache quelle réponse à ma réponse .\n",
      "--------------------------------------------------------------------------------\n",
      "    SOURCE: Come, let me see the list of pitiful fellows who have been kept aloof by Lydia's folly.\"\n",
      "    TARGET: Allons, faites-moi la liste de ces pitoyables candidats que cette écervelée de Lydia a effarouchés.\n",
      " PREDICTED: Allons , allons voir la liste des enfants , qui ont été retenue par la folie .\n",
      "--------------------------------------------------------------------------------\n"
     ]
    },
    {
     "name": "stderr",
     "output_type": "stream",
     "text": [
      "Processing Epoch 11: 100%|████████████████████████████████████████████████████████████| 1929/1929 [02:06<00:00, 15.19it/s, loss=1.923]\n",
      "stty: 'standard input': Inappropriate ioctl for device\n"
     ]
    },
    {
     "name": "stdout",
     "output_type": "stream",
     "text": [
      "Average loss of epoch 11 is 1.8769891720599248\n",
      "huggingface/tokenizers: The current process just got forked, after parallelism has already been used. Disabling parallelism to avoid deadlocks...\n",
      "To disable this warning, you can either:\n",
      "\t- Avoid using `tokenizers` before the fork if possible\n",
      "\t- Explicitly set the environment variable TOKENIZERS_PARALLELISM=(true | false)\n",
      "--------------------------------------------------------------------------------\n",
      "    SOURCE: I'll give her to you.\"\n",
      "    TARGET: Je te la donne.\n",
      " PREDICTED: Je vous la remettrai .\n",
      "--------------------------------------------------------------------------------\n",
      "    SOURCE: \"By the way,\" resumed de Winter, stopping at the threshold of the door, \"you must not, Milady, let this check take away your appetite.\n",
      "    TARGET: «À propos, reprit de Winter en s'arrêtant sur le seuil de la porte, il ne faut pas, Milady, que cet échec vous ôte l'appétit.\n",
      " PREDICTED: -- À propos , reprit Lord de Winter en s ' arrêtant à la porte de la porte , n ' est - ce pas , Milady , votre appétit .\n",
      "--------------------------------------------------------------------------------\n"
     ]
    },
    {
     "name": "stderr",
     "output_type": "stream",
     "text": [
      "Processing Epoch 12: 100%|████████████████████████████████████████████████████████████| 1929/1929 [02:07<00:00, 15.10it/s, loss=1.918]\n",
      "stty: 'standard input': Inappropriate ioctl for device\n"
     ]
    },
    {
     "name": "stdout",
     "output_type": "stream",
     "text": [
      "Average loss of epoch 12 is 1.8508596161352409\n",
      "huggingface/tokenizers: The current process just got forked, after parallelism has already been used. Disabling parallelism to avoid deadlocks...\n",
      "To disable this warning, you can either:\n",
      "\t- Avoid using `tokenizers` before the fork if possible\n",
      "\t- Explicitly set the environment variable TOKENIZERS_PARALLELISM=(true | false)\n",
      "--------------------------------------------------------------------------------\n",
      "    SOURCE: To much confabulation succeeded a sound of scrubbing and setting to rights; and when I passed the room, in going downstairs to dinner, I saw through the open door that all was again restored to complete order; only the bed was stripped of its hangings. Leah stood up in the window-seat, rubbing the panes of glass dimmed with smoke.\n",
      "    TARGET: Après ces exclamations, on remit tout en état. Lorsque je descendis pour dîner, la porte de la chambre était ouverte et je vis que le dégât avait été réparé; le lit seul restait encore dépouillé de ses rideaux; Leah était occupée à laver le bord des fenêtres noirci par la fumée; je m'avançai pour lui parler, car je désirais connaître l'explication donnée par M. Rochester; mais en approchant j'aperçus une seconde personne: elle était assise près du lit, et occupée à coudre des anneaux à des rideaux.\n",
      " PREDICTED: tout d ' un bruit de et de en se suivant , quand je la chambre des noces , en venant par toute la portière et je ne vis que ses fenêtres .\n",
      "--------------------------------------------------------------------------------\n",
      "    SOURCE: Dans cette salle, et tout au fond, un seul étudiant, penché sur une table, completement absorbé par son travail.\n",
      "    TARGET: At the sound of our steps he glanced round and sprang to his feet with a cry of pleasure.\n",
      " PREDICTED: In this room , and quite as to fond , a single peine upon one table , off his so .\n",
      "--------------------------------------------------------------------------------\n"
     ]
    },
    {
     "name": "stderr",
     "output_type": "stream",
     "text": [
      "Processing Epoch 13: 100%|████████████████████████████████████████████████████████████| 1929/1929 [02:06<00:00, 15.29it/s, loss=1.789]\n",
      "stty: 'standard input': Inappropriate ioctl for device\n"
     ]
    },
    {
     "name": "stdout",
     "output_type": "stream",
     "text": [
      "Average loss of epoch 13 is 1.8264960766209415\n",
      "huggingface/tokenizers: The current process just got forked, after parallelism has already been used. Disabling parallelism to avoid deadlocks...\n",
      "To disable this warning, you can either:\n",
      "\t- Avoid using `tokenizers` before the fork if possible\n",
      "\t- Explicitly set the environment variable TOKENIZERS_PARALLELISM=(true | false)\n",
      "--------------------------------------------------------------------------------\n",
      "    SOURCE: And both began drinking slowly.\n",
      "    TARGET: Et toutes deux burent lentement.\n",
      " PREDICTED: Et tous deux se passaient lentement .\n",
      "--------------------------------------------------------------------------------\n",
      "    SOURCE: Their meal concluded, each retired to the corner in which he had rested the preceding night, and Herbert was not long in going to sleep near the sailor, who had stretched himself beside the fireplace.\n",
      "    TARGET: Puis, chacun se retira dans le coin où il avait déjà reposé la nuit précédente, et Harbert ne tarda pas à s'endormir près du marin, qui s'était étendu le long du foyer.\n",
      " PREDICTED: Leurs repas se furent mis au coin où il était parti pris la veille , et Harbert ne pas à se coucher près du marin .\n",
      "--------------------------------------------------------------------------------\n"
     ]
    },
    {
     "name": "stderr",
     "output_type": "stream",
     "text": [
      "Processing Epoch 14: 100%|████████████████████████████████████████████████████████████| 1929/1929 [02:07<00:00, 15.18it/s, loss=1.818]\n",
      "stty: 'standard input': Inappropriate ioctl for device\n"
     ]
    },
    {
     "name": "stdout",
     "output_type": "stream",
     "text": [
      "Average loss of epoch 14 is 1.8050579519825565\n",
      "huggingface/tokenizers: The current process just got forked, after parallelism has already been used. Disabling parallelism to avoid deadlocks...\n",
      "To disable this warning, you can either:\n",
      "\t- Avoid using `tokenizers` before the fork if possible\n",
      "\t- Explicitly set the environment variable TOKENIZERS_PARALLELISM=(true | false)\n",
      "--------------------------------------------------------------------------------\n",
      "    SOURCE: \"If you come back to stay, come in; else get along with you at once, and think yourself lucky that I'm not free just now, or I should have put my foot into you somewhere before now.\"\n",
      "    TARGET: Si tu reviens pour rester, entre; autrement, file tout de suite, et estime-toi heureuse que je sois embarrassée, car je t'aurais déja fichu mon pied quelque part.\n",
      " PREDICTED: -- Si vous reviendrez , je rentre , vous en serez heureuse pour vous ; et je crois que je ne suis pas libre que je suis libre , ou je suis libre .\n",
      "--------------------------------------------------------------------------------\n",
      "    SOURCE: Quasimodo remained on his knees, with head bent and hands clasped.\n",
      "    TARGET: Quasimodo resta à genoux, baissa la tête et joignit les mains.\n",
      " PREDICTED: Quasimodo resta à genoux , la tête penchée , et serra les mains .\n",
      "--------------------------------------------------------------------------------\n"
     ]
    },
    {
     "name": "stderr",
     "output_type": "stream",
     "text": [
      "Processing Epoch 15: 100%|████████████████████████████████████████████████████████████| 1929/1929 [02:07<00:00, 15.17it/s, loss=1.772]\n",
      "stty: 'standard input': Inappropriate ioctl for device\n"
     ]
    },
    {
     "name": "stdout",
     "output_type": "stream",
     "text": [
      "Average loss of epoch 15 is 1.7861517989740525\n",
      "huggingface/tokenizers: The current process just got forked, after parallelism has already been used. Disabling parallelism to avoid deadlocks...\n",
      "To disable this warning, you can either:\n",
      "\t- Avoid using `tokenizers` before the fork if possible\n",
      "\t- Explicitly set the environment variable TOKENIZERS_PARALLELISM=(true | false)\n",
      "--------------------------------------------------------------------------------\n",
      "    SOURCE: Suivant sa jeune imagination, ce présage lui annonçait avec certitude le bon ou le mauvais succès ; et comme il avait plus de résolution qu’aucun de ses camarades, peu à peu toute la troupe prit tellement l’habitude des présages, que si, au moment de s’embarquer, on apercevait sur la côte un prêtre, ou si l’on voyait un corbeau s’envoler à main gauche, on se hâtait de remettre le cadenas à la chaîne du bateau, et chacun allait se recoucher.\n",
      "    TARGET: According to his youthful imagination, this foreboding announced to him infallibly the success or failure of the expedition; and, as he had a stronger will than any of his companions, in course of time the whole band had so formed the habit of having forebodings that if, at the moment of embarking, one of them caught sight of a priest on the shore, or if someone saw a crow fly past on his left, they would hasten to replace the padlock on the chain of the boat, and each would go off to his bed.\n",
      " PREDICTED: He his young imagination , that up was the good line of the matter . He had been lying , and was more than the woman .\n",
      "--------------------------------------------------------------------------------\n",
      "    SOURCE: 'One side of what? The other side of what?' thought Alice to herself.\n",
      "    TARGET: « Un côté de quoi, l’autre côté de quoi ? » pensa Alice.\n",
      " PREDICTED: « Un de quoi ? » pensa Alice . « Ah çà ! » pensa Alice .\n",
      "--------------------------------------------------------------------------------\n"
     ]
    },
    {
     "name": "stderr",
     "output_type": "stream",
     "text": [
      "Processing Epoch 16:  81%|████████████████████████████████████████████████▍           | 1558/1929 [01:41<00:24, 15.04it/s, loss=1.730]"
     ]
    }
   ],
   "source": [
    "from config import get_config\n",
    "cfg = get_config()\n",
    "cfg['batch_size'] = 32\n",
    "cfg['preload'] = None\n",
    "cfg['num_epochs'] = 30\n",
    "\n",
    "from train import train_model\n",
    "import torch\n",
    "torch.cuda.amp.autocast(enabled=True)\n",
    "\n",
    "train_model(cfg)"
   ]
  },
  {
   "cell_type": "code",
   "execution_count": null,
   "id": "efcdae85",
   "metadata": {},
   "outputs": [],
   "source": []
  },
  {
   "cell_type": "code",
   "execution_count": null,
   "id": "1878a04a",
   "metadata": {},
   "outputs": [],
   "source": []
  },
  {
   "cell_type": "code",
   "execution_count": null,
   "id": "6b45da00",
   "metadata": {},
   "outputs": [],
   "source": []
  },
  {
   "cell_type": "code",
   "execution_count": null,
   "id": "88ac1146",
   "metadata": {},
   "outputs": [],
   "source": []
  }
 ],
 "metadata": {
  "kernelspec": {
   "display_name": "Python 3 (ipykernel)",
   "language": "python",
   "name": "python3"
  },
  "language_info": {
   "codemirror_mode": {
    "name": "ipython",
    "version": 3
   },
   "file_extension": ".py",
   "mimetype": "text/x-python",
   "name": "python",
   "nbconvert_exporter": "python",
   "pygments_lexer": "ipython3",
   "version": "3.9.15"
  }
 },
 "nbformat": 4,
 "nbformat_minor": 5
}
